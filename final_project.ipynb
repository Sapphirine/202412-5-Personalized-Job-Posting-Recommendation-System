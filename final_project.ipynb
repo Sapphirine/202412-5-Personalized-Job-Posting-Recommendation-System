{
  "nbformat": 4,
  "nbformat_minor": 0,
  "metadata": {
    "colab": {
      "provenance": []
    },
    "kernelspec": {
      "name": "python3",
      "display_name": "Python 3"
    },
    "language_info": {
      "name": "python"
    }
  },
  "cells": [
    {
      "cell_type": "code",
      "execution_count": 1,
      "metadata": {
        "colab": {
          "base_uri": "https://localhost:8080/"
        },
        "id": "pc1yMtBVziDm",
        "outputId": "a9994024-e239-4d7b-a17a-0b02fd8d6dc7"
      },
      "outputs": [
        {
          "output_type": "stream",
          "name": "stdout",
          "text": [
            "Collecting python-jobspy\n",
            "  Downloading python_jobspy-1.1.75-py3-none-any.whl.metadata (10 kB)\n",
            "Collecting NUMPY==1.26.3 (from python-jobspy)\n",
            "  Downloading numpy-1.26.3-cp310-cp310-manylinux_2_17_x86_64.manylinux2014_x86_64.whl.metadata (61 kB)\n",
            "\u001b[2K     \u001b[90m━━━━━━━━━━━━━━━━━━━━━━━━━━━━━━━━━━━━━━━━\u001b[0m \u001b[32m61.2/61.2 kB\u001b[0m \u001b[31m514.8 kB/s\u001b[0m eta \u001b[36m0:00:00\u001b[0m\n",
            "\u001b[?25hRequirement already satisfied: beautifulsoup4<5.0.0,>=4.12.2 in /usr/local/lib/python3.10/dist-packages (from python-jobspy) (4.12.3)\n",
            "Collecting markdownify<0.14.0,>=0.13.1 (from python-jobspy)\n",
            "  Downloading markdownify-0.13.1-py3-none-any.whl.metadata (8.5 kB)\n",
            "Requirement already satisfied: pandas<3.0.0,>=2.1.0 in /usr/local/lib/python3.10/dist-packages (from python-jobspy) (2.2.2)\n",
            "Requirement already satisfied: pydantic<3.0.0,>=2.3.0 in /usr/local/lib/python3.10/dist-packages (from python-jobspy) (2.9.2)\n",
            "Requirement already satisfied: regex<2025.0.0,>=2024.4.28 in /usr/local/lib/python3.10/dist-packages (from python-jobspy) (2024.9.11)\n",
            "Requirement already satisfied: requests<3.0.0,>=2.31.0 in /usr/local/lib/python3.10/dist-packages (from python-jobspy) (2.32.3)\n",
            "Collecting tls-client<2.0.0,>=1.0.1 (from python-jobspy)\n",
            "  Downloading tls_client-1.0.1-py3-none-any.whl.metadata (5.0 kB)\n",
            "Requirement already satisfied: soupsieve>1.2 in /usr/local/lib/python3.10/dist-packages (from beautifulsoup4<5.0.0,>=4.12.2->python-jobspy) (2.6)\n",
            "Requirement already satisfied: six<2,>=1.15 in /usr/local/lib/python3.10/dist-packages (from markdownify<0.14.0,>=0.13.1->python-jobspy) (1.16.0)\n",
            "Requirement already satisfied: python-dateutil>=2.8.2 in /usr/local/lib/python3.10/dist-packages (from pandas<3.0.0,>=2.1.0->python-jobspy) (2.8.2)\n",
            "Requirement already satisfied: pytz>=2020.1 in /usr/local/lib/python3.10/dist-packages (from pandas<3.0.0,>=2.1.0->python-jobspy) (2024.2)\n",
            "Requirement already satisfied: tzdata>=2022.7 in /usr/local/lib/python3.10/dist-packages (from pandas<3.0.0,>=2.1.0->python-jobspy) (2024.2)\n",
            "Requirement already satisfied: annotated-types>=0.6.0 in /usr/local/lib/python3.10/dist-packages (from pydantic<3.0.0,>=2.3.0->python-jobspy) (0.7.0)\n",
            "Requirement already satisfied: pydantic-core==2.23.4 in /usr/local/lib/python3.10/dist-packages (from pydantic<3.0.0,>=2.3.0->python-jobspy) (2.23.4)\n",
            "Requirement already satisfied: typing-extensions>=4.6.1 in /usr/local/lib/python3.10/dist-packages (from pydantic<3.0.0,>=2.3.0->python-jobspy) (4.12.2)\n",
            "Requirement already satisfied: charset-normalizer<4,>=2 in /usr/local/lib/python3.10/dist-packages (from requests<3.0.0,>=2.31.0->python-jobspy) (3.4.0)\n",
            "Requirement already satisfied: idna<4,>=2.5 in /usr/local/lib/python3.10/dist-packages (from requests<3.0.0,>=2.31.0->python-jobspy) (3.10)\n",
            "Requirement already satisfied: urllib3<3,>=1.21.1 in /usr/local/lib/python3.10/dist-packages (from requests<3.0.0,>=2.31.0->python-jobspy) (2.2.3)\n",
            "Requirement already satisfied: certifi>=2017.4.17 in /usr/local/lib/python3.10/dist-packages (from requests<3.0.0,>=2.31.0->python-jobspy) (2024.8.30)\n",
            "Downloading python_jobspy-1.1.75-py3-none-any.whl (38 kB)\n",
            "Downloading numpy-1.26.3-cp310-cp310-manylinux_2_17_x86_64.manylinux2014_x86_64.whl (18.2 MB)\n",
            "\u001b[2K   \u001b[90m━━━━━━━━━━━━━━━━━━━━━━━━━━━━━━━━━━━━━━━━\u001b[0m \u001b[32m18.2/18.2 MB\u001b[0m \u001b[31m26.1 MB/s\u001b[0m eta \u001b[36m0:00:00\u001b[0m\n",
            "\u001b[?25hDownloading markdownify-0.13.1-py3-none-any.whl (10 kB)\n",
            "Downloading tls_client-1.0.1-py3-none-any.whl (41.3 MB)\n",
            "\u001b[2K   \u001b[90m━━━━━━━━━━━━━━━━━━━━━━━━━━━━━━━━━━━━━━━━\u001b[0m \u001b[32m41.3/41.3 MB\u001b[0m \u001b[31m10.8 MB/s\u001b[0m eta \u001b[36m0:00:00\u001b[0m\n",
            "\u001b[?25hInstalling collected packages: tls-client, NUMPY, markdownify, python-jobspy\n",
            "  Attempting uninstall: NUMPY\n",
            "    Found existing installation: numpy 1.26.4\n",
            "    Uninstalling numpy-1.26.4:\n",
            "      Successfully uninstalled numpy-1.26.4\n",
            "Successfully installed NUMPY-1.26.3 markdownify-0.13.1 python-jobspy-1.1.75 tls-client-1.0.1\n"
          ]
        }
      ],
      "source": [
        "pip install -U python-jobspy"
      ]
    },
    {
      "cell_type": "code",
      "source": [],
      "metadata": {
        "id": "zFCxL6p7_rbm"
      },
      "execution_count": null,
      "outputs": []
    },
    {
      "cell_type": "code",
      "source": [
        "import csv\n",
        "import pandas as pd\n",
        "from jobspy import scrape_jobs\n",
        "\n",
        "\n",
        "job_titles = [\"Software Engineer\", \"Salesperson\", \"Retail Salesperson\"]\n",
        "locations = [\"New York, NY\", \"San Francisco, CA\", \"Austin, TX\"]\n",
        "all_jobs = []\n",
        "\n",
        "# Results configuration\n",
        "results_per_query = 50  # Number of jobs per query\n",
        "total_results_wanted = 1000  # Total number of jobs per title and location\n",
        "max_queries = total_results_wanted // results_per_query  # Number of pages to fetch"
      ],
      "metadata": {
        "id": "QF_fUhIW-jpC"
      },
      "execution_count": 2,
      "outputs": []
    },
    {
      "cell_type": "code",
      "source": [
        "# Fetch jobs for each job title and location\n",
        "for title in job_titles:  # Iterate over job titles\n",
        "    for loc in locations:  # Iterate over locations\n",
        "        print(f\"Searching for '{title}' in '{loc}'...\")\n",
        "        for page in range(max_queries):  # Iterate through pages\n",
        "            try:\n",
        "                jobs = scrape_jobs(\n",
        "                    site_name=[\"indeed\", \"zip_recruiter\", \"glassdoor\"],  # Specify job sites\n",
        "                    search_term=title,  # Pass each job title as a string\n",
        "                    location=loc,  # Location\n",
        "                    results_wanted=results_per_query,  # Results per page\n",
        "                    hours_old=720,  # Jobs posted in the last month\n",
        "                    offset=page * results_per_query,  # Pagination offset\n",
        "                )\n",
        "\n",
        "                # Check if DataFrame is empty\n",
        "                if jobs.empty:  # If no jobs are returned, stop further fetching\n",
        "                    print(f\"No jobs found on page {page + 1}\")\n",
        "                    break\n",
        "\n",
        "                # Add the jobs from this query to the list\n",
        "                all_jobs.extend(jobs.to_dict('records'))  # Convert to list of dicts\n",
        "                print(f\"Fetched {len(jobs)} jobs for page {page + 1}\")\n",
        "\n",
        "            except Exception as e:\n",
        "                print(f\"Error fetching page {page + 1} for '{title}' in '{loc}': {e}\")\n",
        "                break\n",
        "\n",
        "# Convert the combined results to a DataFrame\n",
        "df = pd.DataFrame(all_jobs)\n",
        "\n",
        "# Remove duplicates\n",
        "df = df.drop_duplicates()\n",
        "\n",
        "# Save the results to a CSV file\n",
        "output_file = \"jobs.csv\"\n",
        "df.to_csv(output_file, quoting=csv.QUOTE_NONNUMERIC, escapechar=\"\\\\\", index=False)\n",
        "print(f\"Total jobs fetched: {len(df)}\")\n",
        "print(f\"Results saved to {output_file}\")"
      ],
      "metadata": {
        "colab": {
          "base_uri": "https://localhost:8080/"
        },
        "id": "1FIwVmmrz63l",
        "outputId": "f3b72793-08b9-4282-c36d-ef96e1b3528d"
      },
      "execution_count": 6,
      "outputs": [
        {
          "output_type": "stream",
          "name": "stderr",
          "text": [
            "2024-11-20 07:53:19,759 - INFO - JobSpy:Indeed - search page: 1 / 1\n"
          ]
        },
        {
          "output_type": "stream",
          "name": "stdout",
          "text": [
            "Searching for 'Software Engineer' in 'New York, NY'...\n"
          ]
        },
        {
          "output_type": "stream",
          "name": "stderr",
          "text": [
            "2024-11-20 07:53:19,992 - INFO - JobSpy:ZipRecruiter - search page: 1 / 3\n",
            "2024-11-20 07:53:20,660 - INFO - JobSpy:Glassdoor - search page: 1 / 2\n",
            "2024-11-20 07:53:22,062 - INFO - JobSpy:Glassdoor - search page: 2 / 2\n",
            "2024-11-20 07:53:22,766 - INFO - JobSpy:Indeed - finished scraping\n",
            "2024-11-20 07:53:23,309 - INFO - JobSpy:Glassdoor - finished scraping\n",
            "2024-11-20 07:53:25,942 - INFO - JobSpy:ZipRecruiter - search page: 2 / 3\n",
            "2024-11-20 07:53:31,519 - INFO - JobSpy:ZipRecruiter - search page: 3 / 3\n",
            "2024-11-20 07:53:32,264 - INFO - JobSpy:ZipRecruiter - finished scraping\n",
            "2024-11-20 07:53:32,799 - INFO - JobSpy:Indeed - search page: 1 / 1\n",
            "2024-11-20 07:53:32,911 - INFO - JobSpy:ZipRecruiter - search page: 1 / 3\n"
          ]
        },
        {
          "output_type": "stream",
          "name": "stdout",
          "text": [
            "Fetched 150 jobs for page 1\n"
          ]
        },
        {
          "output_type": "stream",
          "name": "stderr",
          "text": [
            "2024-11-20 07:53:33,811 - INFO - JobSpy:Glassdoor - search page: 2 / 2\n",
            "2024-11-20 07:53:35,170 - INFO - JobSpy:Glassdoor - finished scraping\n",
            "2024-11-20 07:53:35,328 - INFO - JobSpy:Indeed - finished scraping\n",
            "2024-11-20 07:53:38,747 - INFO - JobSpy:ZipRecruiter - search page: 2 / 3\n",
            "2024-11-20 07:53:44,387 - INFO - JobSpy:ZipRecruiter - search page: 3 / 3\n",
            "2024-11-20 07:53:44,946 - INFO - JobSpy:ZipRecruiter - finished scraping\n",
            "2024-11-20 07:53:45,422 - INFO - JobSpy:Indeed - search page: 1 / 1\n",
            "2024-11-20 07:53:45,603 - INFO - JobSpy:ZipRecruiter - search page: 1 / 3\n"
          ]
        },
        {
          "output_type": "stream",
          "name": "stdout",
          "text": [
            "Fetched 130 jobs for page 2\n"
          ]
        },
        {
          "output_type": "stream",
          "name": "stderr",
          "text": [
            "2024-11-20 07:53:45,890 - INFO - JobSpy:Glassdoor - finished scraping\n",
            "2024-11-20 07:53:47,404 - INFO - JobSpy:Indeed - search page: 2 / 1\n",
            "/usr/local/lib/python3.10/dist-packages/markdownify/__init__.py:104: MarkupResemblesLocatorWarning: The input looks more like a filename than markup. You may want to open this file and pass the filehandle into Beautiful Soup.\n",
            "  soup = BeautifulSoup(html, 'html.parser')\n",
            "2024-11-20 07:53:48,870 - INFO - JobSpy:Indeed - finished scraping\n",
            "2024-11-20 07:53:51,446 - INFO - JobSpy:ZipRecruiter - search page: 2 / 3\n",
            "2024-11-20 07:53:57,096 - INFO - JobSpy:ZipRecruiter - search page: 3 / 3\n",
            "2024-11-20 07:53:58,831 - INFO - JobSpy:ZipRecruiter - finished scraping\n",
            "2024-11-20 07:53:59,229 - INFO - JobSpy:Indeed - search page: 1 / 1\n",
            "2024-11-20 07:53:59,364 - INFO - JobSpy:ZipRecruiter - search page: 1 / 3\n"
          ]
        },
        {
          "output_type": "stream",
          "name": "stdout",
          "text": [
            "Fetched 100 jobs for page 3\n"
          ]
        },
        {
          "output_type": "stream",
          "name": "stderr",
          "text": [
            "2024-11-20 07:54:00,440 - INFO - JobSpy:Glassdoor - finished scraping\n",
            "2024-11-20 07:54:01,309 - INFO - JobSpy:Indeed - search page: 2 / 1\n",
            "/usr/local/lib/python3.10/dist-packages/markdownify/__init__.py:104: MarkupResemblesLocatorWarning: The input looks more like a filename than markup. You may want to open this file and pass the filehandle into Beautiful Soup.\n",
            "  soup = BeautifulSoup(html, 'html.parser')\n",
            "2024-11-20 07:54:02,619 - INFO - JobSpy:Indeed - finished scraping\n",
            "2024-11-20 07:54:06,325 - INFO - JobSpy:ZipRecruiter - search page: 2 / 3\n",
            "2024-11-20 07:54:11,932 - INFO - JobSpy:ZipRecruiter - search page: 3 / 3\n",
            "2024-11-20 07:54:12,617 - INFO - JobSpy:ZipRecruiter - finished scraping\n",
            "2024-11-20 07:54:13,070 - INFO - JobSpy:Indeed - search page: 1 / 1\n",
            "2024-11-20 07:54:13,194 - INFO - JobSpy:ZipRecruiter - search page: 1 / 3\n"
          ]
        },
        {
          "output_type": "stream",
          "name": "stdout",
          "text": [
            "Fetched 100 jobs for page 4\n"
          ]
        },
        {
          "output_type": "stream",
          "name": "stderr",
          "text": [
            "2024-11-20 07:54:14,333 - INFO - JobSpy:Glassdoor - finished scraping\n",
            "2024-11-20 07:54:14,396 - INFO - JobSpy:Indeed - search page: 2 / 1\n",
            "/usr/local/lib/python3.10/dist-packages/markdownify/__init__.py:104: MarkupResemblesLocatorWarning: The input looks more like a filename than markup. You may want to open this file and pass the filehandle into Beautiful Soup.\n",
            "  soup = BeautifulSoup(html, 'html.parser')\n",
            "2024-11-20 07:54:15,583 - INFO - JobSpy:Indeed - search page: 3 / 1\n",
            "2024-11-20 07:54:16,904 - INFO - JobSpy:Indeed - finished scraping\n",
            "2024-11-20 07:54:19,075 - INFO - JobSpy:ZipRecruiter - search page: 2 / 3\n",
            "2024-11-20 07:54:24,838 - INFO - JobSpy:ZipRecruiter - search page: 3 / 3\n",
            "2024-11-20 07:54:25,575 - INFO - JobSpy:ZipRecruiter - finished scraping\n",
            "2024-11-20 07:54:25,886 - INFO - JobSpy:Indeed - search page: 1 / 1\n",
            "2024-11-20 07:54:26,002 - INFO - JobSpy:ZipRecruiter - search page: 1 / 3\n"
          ]
        },
        {
          "output_type": "stream",
          "name": "stdout",
          "text": [
            "Fetched 100 jobs for page 5\n"
          ]
        },
        {
          "output_type": "stream",
          "name": "stderr",
          "text": [
            "2024-11-20 07:54:26,405 - INFO - JobSpy:Glassdoor - finished scraping\n",
            "2024-11-20 07:54:27,359 - INFO - JobSpy:Indeed - search page: 2 / 1\n",
            "/usr/local/lib/python3.10/dist-packages/markdownify/__init__.py:104: MarkupResemblesLocatorWarning: The input looks more like a filename than markup. You may want to open this file and pass the filehandle into Beautiful Soup.\n",
            "  soup = BeautifulSoup(html, 'html.parser')\n",
            "2024-11-20 07:54:28,655 - INFO - JobSpy:Indeed - search page: 3 / 1\n",
            "2024-11-20 07:54:30,016 - INFO - JobSpy:Indeed - finished scraping\n",
            "2024-11-20 07:54:31,835 - INFO - JobSpy:ZipRecruiter - search page: 2 / 3\n",
            "2024-11-20 07:54:37,425 - INFO - JobSpy:ZipRecruiter - search page: 3 / 3\n",
            "2024-11-20 07:54:38,145 - INFO - JobSpy:ZipRecruiter - finished scraping\n",
            "2024-11-20 07:54:38,413 - INFO - JobSpy:Indeed - search page: 1 / 1\n",
            "2024-11-20 07:54:38,547 - INFO - JobSpy:ZipRecruiter - search page: 1 / 3\n"
          ]
        },
        {
          "output_type": "stream",
          "name": "stdout",
          "text": [
            "Fetched 100 jobs for page 6\n"
          ]
        },
        {
          "output_type": "stream",
          "name": "stderr",
          "text": [
            "2024-11-20 07:54:39,042 - INFO - JobSpy:Glassdoor - finished scraping\n",
            "2024-11-20 07:54:39,886 - INFO - JobSpy:Indeed - search page: 2 / 1\n",
            "/usr/local/lib/python3.10/dist-packages/markdownify/__init__.py:104: MarkupResemblesLocatorWarning: The input looks more like a filename than markup. You may want to open this file and pass the filehandle into Beautiful Soup.\n",
            "  soup = BeautifulSoup(html, 'html.parser')\n",
            "2024-11-20 07:54:41,008 - INFO - JobSpy:Indeed - search page: 3 / 1\n",
            "2024-11-20 07:54:42,101 - INFO - JobSpy:Indeed - search page: 4 / 1\n",
            "2024-11-20 07:54:43,318 - INFO - JobSpy:Indeed - finished scraping\n",
            "2024-11-20 07:54:44,388 - INFO - JobSpy:ZipRecruiter - search page: 2 / 3\n",
            "2024-11-20 07:54:49,974 - INFO - JobSpy:ZipRecruiter - search page: 3 / 3\n",
            "2024-11-20 07:54:50,609 - INFO - JobSpy:ZipRecruiter - finished scraping\n",
            "2024-11-20 07:54:50,888 - INFO - JobSpy:Indeed - search page: 1 / 1\n",
            "2024-11-20 07:54:50,994 - INFO - JobSpy:ZipRecruiter - search page: 1 / 3\n"
          ]
        },
        {
          "output_type": "stream",
          "name": "stdout",
          "text": [
            "Fetched 100 jobs for page 7\n"
          ]
        },
        {
          "output_type": "stream",
          "name": "stderr",
          "text": [
            "2024-11-20 07:54:51,887 - INFO - JobSpy:Glassdoor - finished scraping\n",
            "2024-11-20 07:54:52,198 - INFO - JobSpy:Indeed - search page: 2 / 1\n",
            "/usr/local/lib/python3.10/dist-packages/markdownify/__init__.py:104: MarkupResemblesLocatorWarning: The input looks more like a filename than markup. You may want to open this file and pass the filehandle into Beautiful Soup.\n",
            "  soup = BeautifulSoup(html, 'html.parser')\n",
            "2024-11-20 07:54:53,411 - INFO - JobSpy:Indeed - search page: 3 / 1\n",
            "2024-11-20 07:54:54,583 - INFO - JobSpy:Indeed - search page: 4 / 1\n",
            "2024-11-20 07:54:55,693 - INFO - JobSpy:Indeed - finished scraping\n",
            "2024-11-20 07:54:56,764 - INFO - JobSpy:ZipRecruiter - search page: 2 / 3\n",
            "2024-11-20 07:55:02,395 - INFO - JobSpy:ZipRecruiter - search page: 3 / 3\n",
            "2024-11-20 07:55:02,994 - INFO - JobSpy:ZipRecruiter - finished scraping\n",
            "2024-11-20 07:55:03,354 - INFO - JobSpy:Indeed - search page: 1 / 1\n",
            "2024-11-20 07:55:03,466 - INFO - JobSpy:ZipRecruiter - search page: 1 / 3\n",
            "2024-11-20 07:55:03,544 - ERROR - JobSpy:ZipRecruiter - 429 Response - Blocked by ZipRecruiter for too many requests\n",
            "2024-11-20 07:55:03,546 - INFO - JobSpy:ZipRecruiter - finished scraping\n"
          ]
        },
        {
          "output_type": "stream",
          "name": "stdout",
          "text": [
            "Fetched 100 jobs for page 8\n"
          ]
        },
        {
          "output_type": "stream",
          "name": "stderr",
          "text": [
            "2024-11-20 07:55:04,474 - INFO - JobSpy:Glassdoor - finished scraping\n",
            "2024-11-20 07:55:04,648 - INFO - JobSpy:Indeed - search page: 2 / 1\n",
            "/usr/local/lib/python3.10/dist-packages/markdownify/__init__.py:104: MarkupResemblesLocatorWarning: The input looks more like a filename than markup. You may want to open this file and pass the filehandle into Beautiful Soup.\n",
            "  soup = BeautifulSoup(html, 'html.parser')\n",
            "2024-11-20 07:55:05,848 - INFO - JobSpy:Indeed - search page: 3 / 1\n",
            "2024-11-20 07:55:06,991 - INFO - JobSpy:Indeed - search page: 4 / 1\n",
            "2024-11-20 07:55:08,267 - INFO - JobSpy:Indeed - search page: 5 / 1\n",
            "2024-11-20 07:55:09,694 - INFO - JobSpy:Indeed - finished scraping\n",
            "2024-11-20 07:55:09,934 - INFO - JobSpy:Indeed - search page: 1 / 1\n",
            "2024-11-20 07:55:10,127 - INFO - JobSpy:ZipRecruiter - search page: 1 / 3\n"
          ]
        },
        {
          "output_type": "stream",
          "name": "stdout",
          "text": [
            "Fetched 50 jobs for page 9\n"
          ]
        },
        {
          "output_type": "stream",
          "name": "stderr",
          "text": [
            "2024-11-20 07:55:10,205 - ERROR - JobSpy:ZipRecruiter - 429 Response - Blocked by ZipRecruiter for too many requests\n",
            "2024-11-20 07:55:10,207 - INFO - JobSpy:ZipRecruiter - finished scraping\n",
            "2024-11-20 07:55:10,838 - INFO - JobSpy:Glassdoor - finished scraping\n",
            "2024-11-20 07:55:11,529 - INFO - JobSpy:Indeed - search page: 2 / 1\n",
            "/usr/local/lib/python3.10/dist-packages/markdownify/__init__.py:104: MarkupResemblesLocatorWarning: The input looks more like a filename than markup. You may want to open this file and pass the filehandle into Beautiful Soup.\n",
            "  soup = BeautifulSoup(html, 'html.parser')\n",
            "2024-11-20 07:55:13,187 - INFO - JobSpy:Indeed - search page: 3 / 1\n",
            "2024-11-20 07:55:14,318 - INFO - JobSpy:Indeed - search page: 4 / 1\n",
            "2024-11-20 07:55:15,420 - INFO - JobSpy:Indeed - search page: 5 / 1\n",
            "2024-11-20 07:55:16,645 - INFO - JobSpy:Indeed - finished scraping\n",
            "2024-11-20 07:55:16,797 - INFO - JobSpy:Indeed - search page: 1 / 1\n",
            "2024-11-20 07:55:16,920 - INFO - JobSpy:ZipRecruiter - search page: 1 / 3\n",
            "2024-11-20 07:55:16,987 - ERROR - JobSpy:ZipRecruiter - 429 Response - Blocked by ZipRecruiter for too many requests\n",
            "2024-11-20 07:55:16,989 - INFO - JobSpy:ZipRecruiter - finished scraping\n"
          ]
        },
        {
          "output_type": "stream",
          "name": "stdout",
          "text": [
            "Fetched 50 jobs for page 10\n"
          ]
        },
        {
          "output_type": "stream",
          "name": "stderr",
          "text": [
            "2024-11-20 07:55:17,494 - INFO - JobSpy:Glassdoor - finished scraping\n",
            "2024-11-20 07:55:17,983 - INFO - JobSpy:Indeed - search page: 2 / 1\n",
            "/usr/local/lib/python3.10/dist-packages/markdownify/__init__.py:104: MarkupResemblesLocatorWarning: The input looks more like a filename than markup. You may want to open this file and pass the filehandle into Beautiful Soup.\n",
            "  soup = BeautifulSoup(html, 'html.parser')\n",
            "2024-11-20 07:55:19,218 - INFO - JobSpy:Indeed - search page: 3 / 1\n",
            "2024-11-20 07:55:20,498 - INFO - JobSpy:Indeed - search page: 4 / 1\n",
            "2024-11-20 07:55:21,779 - INFO - JobSpy:Indeed - search page: 5 / 1\n",
            "2024-11-20 07:55:23,164 - INFO - JobSpy:Indeed - search page: 6 / 1\n",
            "2024-11-20 07:55:24,813 - INFO - JobSpy:Indeed - finished scraping\n",
            "2024-11-20 07:55:25,027 - INFO - JobSpy:Indeed - search page: 1 / 1\n",
            "2024-11-20 07:55:25,138 - INFO - JobSpy:ZipRecruiter - search page: 1 / 3\n"
          ]
        },
        {
          "output_type": "stream",
          "name": "stdout",
          "text": [
            "Fetched 50 jobs for page 11\n"
          ]
        },
        {
          "output_type": "stream",
          "name": "stderr",
          "text": [
            "2024-11-20 07:55:25,750 - INFO - JobSpy:Glassdoor - finished scraping\n",
            "2024-11-20 07:55:26,329 - INFO - JobSpy:Indeed - search page: 2 / 1\n",
            "/usr/local/lib/python3.10/dist-packages/markdownify/__init__.py:104: MarkupResemblesLocatorWarning: The input looks more like a filename than markup. You may want to open this file and pass the filehandle into Beautiful Soup.\n",
            "  soup = BeautifulSoup(html, 'html.parser')\n",
            "2024-11-20 07:55:27,429 - INFO - JobSpy:Indeed - search page: 3 / 1\n",
            "2024-11-20 07:55:28,491 - INFO - JobSpy:Indeed - search page: 4 / 1\n",
            "2024-11-20 07:55:29,615 - INFO - JobSpy:Indeed - search page: 5 / 1\n",
            "2024-11-20 07:55:30,787 - INFO - JobSpy:Indeed - search page: 6 / 1\n",
            "2024-11-20 07:55:30,945 - INFO - JobSpy:ZipRecruiter - search page: 2 / 3\n",
            "2024-11-20 07:55:31,871 - INFO - JobSpy:Indeed - finished scraping\n",
            "2024-11-20 07:55:37,474 - INFO - JobSpy:ZipRecruiter - search page: 3 / 3\n",
            "2024-11-20 07:55:38,045 - INFO - JobSpy:ZipRecruiter - finished scraping\n",
            "2024-11-20 07:55:38,437 - INFO - JobSpy:Indeed - search page: 1 / 1\n",
            "2024-11-20 07:55:38,563 - INFO - JobSpy:ZipRecruiter - search page: 1 / 3\n"
          ]
        },
        {
          "output_type": "stream",
          "name": "stdout",
          "text": [
            "Fetched 100 jobs for page 12\n"
          ]
        },
        {
          "output_type": "stream",
          "name": "stderr",
          "text": [
            "2024-11-20 07:55:39,334 - INFO - JobSpy:Glassdoor - finished scraping\n",
            "2024-11-20 07:55:39,895 - INFO - JobSpy:Indeed - search page: 2 / 1\n",
            "/usr/local/lib/python3.10/dist-packages/markdownify/__init__.py:104: MarkupResemblesLocatorWarning: The input looks more like a filename than markup. You may want to open this file and pass the filehandle into Beautiful Soup.\n",
            "  soup = BeautifulSoup(html, 'html.parser')\n",
            "2024-11-20 07:55:41,207 - INFO - JobSpy:Indeed - search page: 3 / 1\n",
            "2024-11-20 07:55:42,405 - INFO - JobSpy:Indeed - search page: 4 / 1\n",
            "2024-11-20 07:55:43,666 - INFO - JobSpy:Indeed - search page: 5 / 1\n",
            "2024-11-20 07:55:44,368 - INFO - JobSpy:ZipRecruiter - search page: 2 / 3\n",
            "2024-11-20 07:55:45,460 - INFO - JobSpy:Indeed - search page: 6 / 1\n",
            "2024-11-20 07:55:46,674 - INFO - JobSpy:Indeed - search page: 7 / 1\n",
            "2024-11-20 07:55:48,821 - INFO - JobSpy:Indeed - finished scraping\n",
            "2024-11-20 07:55:50,169 - INFO - JobSpy:ZipRecruiter - search page: 3 / 3\n",
            "2024-11-20 07:55:50,748 - INFO - JobSpy:ZipRecruiter - finished scraping\n",
            "2024-11-20 07:55:51,038 - INFO - JobSpy:Indeed - search page: 1 / 1\n",
            "2024-11-20 07:55:51,180 - INFO - JobSpy:ZipRecruiter - search page: 1 / 3\n"
          ]
        },
        {
          "output_type": "stream",
          "name": "stdout",
          "text": [
            "Fetched 100 jobs for page 13\n"
          ]
        },
        {
          "output_type": "stream",
          "name": "stderr",
          "text": [
            "2024-11-20 07:55:51,661 - INFO - JobSpy:Glassdoor - finished scraping\n",
            "2024-11-20 07:55:52,507 - INFO - JobSpy:Indeed - search page: 2 / 1\n",
            "/usr/local/lib/python3.10/dist-packages/markdownify/__init__.py:104: MarkupResemblesLocatorWarning: The input looks more like a filename than markup. You may want to open this file and pass the filehandle into Beautiful Soup.\n",
            "  soup = BeautifulSoup(html, 'html.parser')\n",
            "2024-11-20 07:55:53,827 - INFO - JobSpy:Indeed - search page: 3 / 1\n",
            "2024-11-20 07:55:54,922 - INFO - JobSpy:Indeed - search page: 4 / 1\n",
            "2024-11-20 07:55:56,030 - INFO - JobSpy:Indeed - search page: 5 / 1\n",
            "2024-11-20 07:55:57,006 - INFO - JobSpy:ZipRecruiter - search page: 2 / 3\n",
            "2024-11-20 07:55:57,541 - INFO - JobSpy:Indeed - search page: 6 / 1\n",
            "2024-11-20 07:55:58,589 - INFO - JobSpy:Indeed - search page: 7 / 1\n",
            "2024-11-20 07:55:59,905 - INFO - JobSpy:Indeed - finished scraping\n",
            "2024-11-20 07:56:02,744 - INFO - JobSpy:ZipRecruiter - search page: 3 / 3\n",
            "2024-11-20 07:56:03,282 - INFO - JobSpy:ZipRecruiter - finished scraping\n",
            "2024-11-20 07:56:03,574 - INFO - JobSpy:Indeed - search page: 1 / 1\n",
            "2024-11-20 07:56:03,677 - INFO - JobSpy:ZipRecruiter - search page: 1 / 3\n"
          ]
        },
        {
          "output_type": "stream",
          "name": "stdout",
          "text": [
            "Fetched 100 jobs for page 14\n"
          ]
        },
        {
          "output_type": "stream",
          "name": "stderr",
          "text": [
            "2024-11-20 07:56:04,247 - INFO - JobSpy:Glassdoor - finished scraping\n",
            "2024-11-20 07:56:04,762 - INFO - JobSpy:Indeed - search page: 2 / 1\n",
            "/usr/local/lib/python3.10/dist-packages/markdownify/__init__.py:104: MarkupResemblesLocatorWarning: The input looks more like a filename than markup. You may want to open this file and pass the filehandle into Beautiful Soup.\n",
            "  soup = BeautifulSoup(html, 'html.parser')\n",
            "2024-11-20 07:56:06,082 - INFO - JobSpy:Indeed - search page: 3 / 1\n",
            "2024-11-20 07:56:07,346 - INFO - JobSpy:Indeed - search page: 4 / 1\n",
            "2024-11-20 07:56:08,603 - INFO - JobSpy:Indeed - search page: 5 / 1\n",
            "2024-11-20 07:56:10,103 - INFO - JobSpy:Indeed - search page: 6 / 1\n",
            "2024-11-20 07:56:10,339 - INFO - JobSpy:ZipRecruiter - search page: 2 / 3\n",
            "2024-11-20 07:56:11,294 - INFO - JobSpy:Indeed - search page: 7 / 1\n",
            "2024-11-20 07:56:12,984 - INFO - JobSpy:Indeed - search page: 8 / 1\n",
            "2024-11-20 07:56:14,348 - INFO - JobSpy:Indeed - finished scraping\n",
            "2024-11-20 07:56:16,117 - INFO - JobSpy:ZipRecruiter - search page: 3 / 3\n",
            "2024-11-20 07:56:16,694 - INFO - JobSpy:ZipRecruiter - finished scraping\n",
            "2024-11-20 07:56:17,078 - INFO - JobSpy:Indeed - search page: 1 / 1\n",
            "2024-11-20 07:56:17,198 - INFO - JobSpy:ZipRecruiter - search page: 1 / 3\n"
          ]
        },
        {
          "output_type": "stream",
          "name": "stdout",
          "text": [
            "Fetched 100 jobs for page 15\n"
          ]
        },
        {
          "output_type": "stream",
          "name": "stderr",
          "text": [
            "2024-11-20 07:56:18,081 - INFO - JobSpy:Glassdoor - finished scraping\n",
            "2024-11-20 07:56:18,381 - INFO - JobSpy:Indeed - search page: 2 / 1\n",
            "/usr/local/lib/python3.10/dist-packages/markdownify/__init__.py:104: MarkupResemblesLocatorWarning: The input looks more like a filename than markup. You may want to open this file and pass the filehandle into Beautiful Soup.\n",
            "  soup = BeautifulSoup(html, 'html.parser')\n",
            "2024-11-20 07:56:19,502 - INFO - JobSpy:Indeed - search page: 3 / 1\n",
            "2024-11-20 07:56:20,626 - INFO - JobSpy:Indeed - search page: 4 / 1\n",
            "2024-11-20 07:56:21,741 - INFO - JobSpy:Indeed - search page: 5 / 1\n",
            "2024-11-20 07:56:23,063 - INFO - JobSpy:ZipRecruiter - search page: 2 / 3\n",
            "2024-11-20 07:56:24,773 - INFO - JobSpy:Indeed - search page: 6 / 1\n",
            "2024-11-20 07:56:26,305 - INFO - JobSpy:Indeed - search page: 7 / 1\n",
            "2024-11-20 07:56:27,589 - INFO - JobSpy:Indeed - search page: 8 / 1\n",
            "2024-11-20 07:56:28,804 - INFO - JobSpy:Indeed - finished scraping\n",
            "2024-11-20 07:56:28,827 - INFO - JobSpy:ZipRecruiter - search page: 3 / 3\n",
            "2024-11-20 07:56:29,419 - INFO - JobSpy:ZipRecruiter - finished scraping\n",
            "2024-11-20 07:56:29,780 - INFO - JobSpy:Indeed - search page: 1 / 1\n",
            "2024-11-20 07:56:29,968 - INFO - JobSpy:ZipRecruiter - search page: 1 / 3\n"
          ]
        },
        {
          "output_type": "stream",
          "name": "stdout",
          "text": [
            "Fetched 100 jobs for page 16\n"
          ]
        },
        {
          "output_type": "stream",
          "name": "stderr",
          "text": [
            "2024-11-20 07:56:30,687 - INFO - JobSpy:Glassdoor - finished scraping\n",
            "2024-11-20 07:56:31,296 - INFO - JobSpy:Indeed - search page: 2 / 1\n",
            "/usr/local/lib/python3.10/dist-packages/markdownify/__init__.py:104: MarkupResemblesLocatorWarning: The input looks more like a filename than markup. You may want to open this file and pass the filehandle into Beautiful Soup.\n",
            "  soup = BeautifulSoup(html, 'html.parser')\n",
            "2024-11-20 07:56:32,388 - INFO - JobSpy:Indeed - search page: 3 / 1\n",
            "2024-11-20 07:56:33,594 - INFO - JobSpy:Indeed - search page: 4 / 1\n",
            "2024-11-20 07:56:35,746 - INFO - JobSpy:Indeed - search page: 5 / 1\n",
            "2024-11-20 07:56:35,799 - INFO - JobSpy:ZipRecruiter - search page: 2 / 3\n",
            "2024-11-20 07:56:37,510 - INFO - JobSpy:Indeed - search page: 6 / 1\n",
            "2024-11-20 07:56:39,011 - INFO - JobSpy:Indeed - search page: 7 / 1\n",
            "2024-11-20 07:56:40,179 - INFO - JobSpy:Indeed - search page: 8 / 1\n",
            "2024-11-20 07:56:41,381 - INFO - JobSpy:Indeed - search page: 9 / 1\n",
            "2024-11-20 07:56:41,548 - INFO - JobSpy:ZipRecruiter - search page: 3 / 3\n",
            "2024-11-20 07:56:42,306 - INFO - JobSpy:ZipRecruiter - finished scraping\n",
            "2024-11-20 07:56:42,766 - INFO - JobSpy:Indeed - finished scraping\n",
            "2024-11-20 07:56:43,141 - INFO - JobSpy:Indeed - search page: 1 / 1\n",
            "2024-11-20 07:56:43,265 - INFO - JobSpy:ZipRecruiter - search page: 1 / 3\n"
          ]
        },
        {
          "output_type": "stream",
          "name": "stdout",
          "text": [
            "Fetched 100 jobs for page 17\n"
          ]
        },
        {
          "output_type": "stream",
          "name": "stderr",
          "text": [
            "2024-11-20 07:56:44,450 - INFO - JobSpy:Indeed - search page: 2 / 1\n",
            "/usr/local/lib/python3.10/dist-packages/markdownify/__init__.py:104: MarkupResemblesLocatorWarning: The input looks more like a filename than markup. You may want to open this file and pass the filehandle into Beautiful Soup.\n",
            "  soup = BeautifulSoup(html, 'html.parser')\n",
            "2024-11-20 07:56:45,555 - INFO - JobSpy:Indeed - search page: 3 / 1\n",
            "2024-11-20 07:56:45,562 - INFO - JobSpy:Glassdoor - finished scraping\n",
            "2024-11-20 07:56:46,713 - INFO - JobSpy:Indeed - search page: 4 / 1\n",
            "2024-11-20 07:56:47,840 - INFO - JobSpy:Indeed - search page: 5 / 1\n",
            "2024-11-20 07:56:49,013 - INFO - JobSpy:ZipRecruiter - search page: 2 / 3\n",
            "2024-11-20 07:56:49,196 - INFO - JobSpy:Indeed - search page: 6 / 1\n",
            "2024-11-20 07:56:50,883 - INFO - JobSpy:Indeed - search page: 7 / 1\n",
            "2024-11-20 07:56:52,237 - INFO - JobSpy:Indeed - search page: 8 / 1\n",
            "2024-11-20 07:56:53,544 - INFO - JobSpy:Indeed - search page: 9 / 1\n",
            "2024-11-20 07:56:54,653 - INFO - JobSpy:ZipRecruiter - search page: 3 / 3\n",
            "2024-11-20 07:56:54,752 - INFO - JobSpy:Indeed - finished scraping\n",
            "2024-11-20 07:56:55,269 - INFO - JobSpy:ZipRecruiter - finished scraping\n",
            "2024-11-20 07:56:55,540 - INFO - JobSpy:Indeed - search page: 1 / 1\n",
            "2024-11-20 07:56:55,655 - INFO - JobSpy:ZipRecruiter - search page: 1 / 3\n"
          ]
        },
        {
          "output_type": "stream",
          "name": "stdout",
          "text": [
            "Fetched 100 jobs for page 18\n"
          ]
        },
        {
          "output_type": "stream",
          "name": "stderr",
          "text": [
            "2024-11-20 07:56:56,071 - INFO - JobSpy:Glassdoor - finished scraping\n",
            "2024-11-20 07:56:56,955 - INFO - JobSpy:Indeed - search page: 2 / 1\n",
            "/usr/local/lib/python3.10/dist-packages/markdownify/__init__.py:104: MarkupResemblesLocatorWarning: The input looks more like a filename than markup. You may want to open this file and pass the filehandle into Beautiful Soup.\n",
            "  soup = BeautifulSoup(html, 'html.parser')\n",
            "2024-11-20 07:56:58,238 - INFO - JobSpy:Indeed - search page: 3 / 1\n",
            "2024-11-20 07:56:59,451 - INFO - JobSpy:Indeed - search page: 4 / 1\n",
            "2024-11-20 07:57:01,461 - INFO - JobSpy:ZipRecruiter - search page: 2 / 3\n",
            "2024-11-20 07:57:02,633 - INFO - JobSpy:Indeed - search page: 5 / 1\n",
            "2024-11-20 07:57:04,455 - INFO - JobSpy:Indeed - search page: 6 / 1\n",
            "2024-11-20 07:57:05,483 - INFO - JobSpy:Indeed - search page: 7 / 1\n",
            "2024-11-20 07:57:06,636 - INFO - JobSpy:Indeed - search page: 8 / 1\n",
            "2024-11-20 07:57:07,234 - INFO - JobSpy:ZipRecruiter - search page: 3 / 3\n",
            "2024-11-20 07:57:07,927 - INFO - JobSpy:Indeed - search page: 9 / 1\n",
            "2024-11-20 07:57:07,968 - INFO - JobSpy:ZipRecruiter - finished scraping\n",
            "2024-11-20 07:57:09,112 - INFO - JobSpy:Indeed - search page: 10 / 1\n",
            "2024-11-20 07:57:10,100 - INFO - JobSpy:Indeed - finished scraping\n",
            "2024-11-20 07:57:10,491 - INFO - JobSpy:Indeed - search page: 1 / 1\n",
            "2024-11-20 07:57:10,671 - INFO - JobSpy:ZipRecruiter - search page: 1 / 3\n"
          ]
        },
        {
          "output_type": "stream",
          "name": "stdout",
          "text": [
            "Fetched 100 jobs for page 19\n"
          ]
        },
        {
          "output_type": "stream",
          "name": "stderr",
          "text": [
            "2024-11-20 07:57:10,744 - ERROR - JobSpy:ZipRecruiter - 429 Response - Blocked by ZipRecruiter for too many requests\n",
            "2024-11-20 07:57:10,746 - INFO - JobSpy:ZipRecruiter - finished scraping\n",
            "2024-11-20 07:57:11,637 - INFO - JobSpy:Indeed - search page: 2 / 1\n",
            "2024-11-20 07:57:11,710 - INFO - JobSpy:Glassdoor - finished scraping\n",
            "/usr/local/lib/python3.10/dist-packages/markdownify/__init__.py:104: MarkupResemblesLocatorWarning: The input looks more like a filename than markup. You may want to open this file and pass the filehandle into Beautiful Soup.\n",
            "  soup = BeautifulSoup(html, 'html.parser')\n",
            "2024-11-20 07:57:12,928 - INFO - JobSpy:Indeed - search page: 3 / 1\n",
            "2024-11-20 07:57:14,050 - INFO - JobSpy:Indeed - search page: 4 / 1\n",
            "2024-11-20 07:57:15,676 - INFO - JobSpy:Indeed - search page: 5 / 1\n",
            "2024-11-20 07:57:17,291 - INFO - JobSpy:Indeed - search page: 6 / 1\n",
            "2024-11-20 07:57:18,501 - INFO - JobSpy:Indeed - search page: 7 / 1\n",
            "2024-11-20 07:57:19,799 - INFO - JobSpy:Indeed - search page: 8 / 1\n",
            "2024-11-20 07:57:21,538 - INFO - JobSpy:Indeed - search page: 9 / 1\n",
            "2024-11-20 07:57:22,663 - INFO - JobSpy:Indeed - search page: 10 / 1\n",
            "2024-11-20 07:57:23,555 - INFO - JobSpy:Indeed - search page: 11 / 1\n",
            "2024-11-20 07:57:23,932 - INFO - JobSpy:Indeed - found no jobs on page: 11\n",
            "2024-11-20 07:57:23,939 - INFO - JobSpy:Indeed - finished scraping\n",
            "2024-11-20 07:57:24,023 - INFO - JobSpy:Indeed - search page: 1 / 1\n",
            "2024-11-20 07:57:24,137 - INFO - JobSpy:ZipRecruiter - search page: 1 / 3\n",
            "2024-11-20 07:57:24,216 - ERROR - JobSpy:ZipRecruiter - 429 Response - Blocked by ZipRecruiter for too many requests\n",
            "2024-11-20 07:57:24,219 - INFO - JobSpy:ZipRecruiter - finished scraping\n"
          ]
        },
        {
          "output_type": "stream",
          "name": "stdout",
          "text": [
            "Fetched 24 jobs for page 20\n",
            "Searching for 'Software Engineer' in 'San Francisco, CA'...\n"
          ]
        },
        {
          "output_type": "stream",
          "name": "stderr",
          "text": [
            "2024-11-20 07:57:25,099 - INFO - JobSpy:Glassdoor - search page: 1 / 2\n",
            "2024-11-20 07:57:25,280 - INFO - JobSpy:Indeed - finished scraping\n",
            "2024-11-20 07:57:25,922 - INFO - JobSpy:Glassdoor - search page: 2 / 2\n",
            "2024-11-20 07:57:26,976 - INFO - JobSpy:Glassdoor - finished scraping\n",
            "2024-11-20 07:57:27,389 - INFO - JobSpy:Indeed - search page: 1 / 1\n",
            "2024-11-20 07:57:27,514 - INFO - JobSpy:ZipRecruiter - search page: 1 / 3\n"
          ]
        },
        {
          "output_type": "stream",
          "name": "stdout",
          "text": [
            "Fetched 100 jobs for page 1\n"
          ]
        },
        {
          "output_type": "stream",
          "name": "stderr",
          "text": [
            "2024-11-20 07:57:28,149 - INFO - JobSpy:Glassdoor - search page: 2 / 2\n",
            "2024-11-20 07:57:29,687 - INFO - JobSpy:Glassdoor - finished scraping\n",
            "2024-11-20 07:57:29,904 - INFO - JobSpy:Indeed - finished scraping\n",
            "2024-11-20 07:57:33,268 - INFO - JobSpy:ZipRecruiter - search page: 2 / 3\n",
            "2024-11-20 07:57:38,884 - INFO - JobSpy:ZipRecruiter - search page: 3 / 3\n",
            "2024-11-20 07:57:39,577 - INFO - JobSpy:ZipRecruiter - finished scraping\n",
            "2024-11-20 07:57:40,164 - INFO - JobSpy:Indeed - search page: 1 / 1\n",
            "2024-11-20 07:57:40,330 - INFO - JobSpy:ZipRecruiter - search page: 1 / 3\n"
          ]
        },
        {
          "output_type": "stream",
          "name": "stdout",
          "text": [
            "Fetched 130 jobs for page 2\n"
          ]
        },
        {
          "output_type": "stream",
          "name": "stderr",
          "text": [
            "2024-11-20 07:57:40,770 - INFO - JobSpy:Glassdoor - finished scraping\n",
            "2024-11-20 07:57:42,026 - INFO - JobSpy:Indeed - search page: 2 / 1\n",
            "/usr/local/lib/python3.10/dist-packages/markdownify/__init__.py:104: MarkupResemblesLocatorWarning: The input looks more like a filename than markup. You may want to open this file and pass the filehandle into Beautiful Soup.\n",
            "  soup = BeautifulSoup(html, 'html.parser')\n",
            "2024-11-20 07:57:45,040 - INFO - JobSpy:Indeed - finished scraping\n",
            "2024-11-20 07:57:46,086 - INFO - JobSpy:ZipRecruiter - search page: 2 / 3\n",
            "2024-11-20 07:57:51,710 - INFO - JobSpy:ZipRecruiter - search page: 3 / 3\n",
            "2024-11-20 07:57:52,428 - INFO - JobSpy:ZipRecruiter - finished scraping\n",
            "2024-11-20 07:57:52,927 - INFO - JobSpy:Indeed - search page: 1 / 1\n",
            "2024-11-20 07:57:53,051 - INFO - JobSpy:ZipRecruiter - search page: 1 / 3\n"
          ]
        },
        {
          "output_type": "stream",
          "name": "stdout",
          "text": [
            "Fetched 100 jobs for page 3\n"
          ]
        },
        {
          "output_type": "stream",
          "name": "stderr",
          "text": [
            "2024-11-20 07:57:54,476 - INFO - JobSpy:Glassdoor - finished scraping\n",
            "2024-11-20 07:57:54,879 - INFO - JobSpy:Indeed - search page: 2 / 1\n",
            "/usr/local/lib/python3.10/dist-packages/markdownify/__init__.py:104: MarkupResemblesLocatorWarning: The input looks more like a filename than markup. You may want to open this file and pass the filehandle into Beautiful Soup.\n",
            "  soup = BeautifulSoup(html, 'html.parser')\n",
            "2024-11-20 07:57:56,072 - INFO - JobSpy:Indeed - finished scraping\n",
            "2024-11-20 07:57:58,931 - INFO - JobSpy:ZipRecruiter - search page: 2 / 3\n",
            "2024-11-20 07:58:04,551 - INFO - JobSpy:ZipRecruiter - search page: 3 / 3\n",
            "2024-11-20 07:58:05,056 - INFO - JobSpy:ZipRecruiter - finished scraping\n",
            "2024-11-20 07:58:05,384 - INFO - JobSpy:Indeed - search page: 1 / 1\n",
            "2024-11-20 07:58:05,517 - INFO - JobSpy:ZipRecruiter - search page: 1 / 3\n"
          ]
        },
        {
          "output_type": "stream",
          "name": "stdout",
          "text": [
            "Fetched 100 jobs for page 4\n"
          ]
        },
        {
          "output_type": "stream",
          "name": "stderr",
          "text": [
            "2024-11-20 07:58:06,041 - INFO - JobSpy:Glassdoor - finished scraping\n",
            "2024-11-20 07:58:07,273 - INFO - JobSpy:Indeed - search page: 2 / 1\n",
            "/usr/local/lib/python3.10/dist-packages/markdownify/__init__.py:104: MarkupResemblesLocatorWarning: The input looks more like a filename than markup. You may want to open this file and pass the filehandle into Beautiful Soup.\n",
            "  soup = BeautifulSoup(html, 'html.parser')\n",
            "2024-11-20 07:58:08,606 - INFO - JobSpy:Indeed - search page: 3 / 1\n",
            "2024-11-20 07:58:09,797 - INFO - JobSpy:Indeed - finished scraping\n",
            "2024-11-20 07:58:11,330 - INFO - JobSpy:ZipRecruiter - search page: 2 / 3\n",
            "2024-11-20 07:58:16,963 - INFO - JobSpy:ZipRecruiter - search page: 3 / 3\n",
            "2024-11-20 07:58:17,473 - INFO - JobSpy:ZipRecruiter - finished scraping\n",
            "2024-11-20 07:58:17,737 - INFO - JobSpy:Indeed - search page: 1 / 1\n",
            "2024-11-20 07:58:17,850 - INFO - JobSpy:ZipRecruiter - search page: 1 / 3\n"
          ]
        },
        {
          "output_type": "stream",
          "name": "stdout",
          "text": [
            "Fetched 100 jobs for page 5\n"
          ]
        },
        {
          "output_type": "stream",
          "name": "stderr",
          "text": [
            "2024-11-20 07:58:18,534 - INFO - JobSpy:Glassdoor - finished scraping\n",
            "2024-11-20 07:58:19,450 - INFO - JobSpy:Indeed - search page: 2 / 1\n",
            "/usr/local/lib/python3.10/dist-packages/markdownify/__init__.py:104: MarkupResemblesLocatorWarning: The input looks more like a filename than markup. You may want to open this file and pass the filehandle into Beautiful Soup.\n",
            "  soup = BeautifulSoup(html, 'html.parser')\n",
            "2024-11-20 07:58:20,906 - INFO - JobSpy:Indeed - search page: 3 / 1\n",
            "2024-11-20 07:58:22,041 - INFO - JobSpy:Indeed - finished scraping\n",
            "2024-11-20 07:58:23,587 - INFO - JobSpy:ZipRecruiter - search page: 2 / 3\n",
            "2024-11-20 07:58:29,218 - INFO - JobSpy:ZipRecruiter - search page: 3 / 3\n",
            "2024-11-20 07:58:29,869 - INFO - JobSpy:ZipRecruiter - finished scraping\n",
            "2024-11-20 07:58:30,263 - INFO - JobSpy:Indeed - search page: 1 / 1\n",
            "2024-11-20 07:58:30,402 - INFO - JobSpy:ZipRecruiter - search page: 1 / 3\n"
          ]
        },
        {
          "output_type": "stream",
          "name": "stdout",
          "text": [
            "Fetched 100 jobs for page 6\n"
          ]
        },
        {
          "output_type": "stream",
          "name": "stderr",
          "text": [
            "2024-11-20 07:58:31,008 - INFO - JobSpy:Glassdoor - finished scraping\n",
            "2024-11-20 07:58:31,899 - INFO - JobSpy:Indeed - search page: 2 / 1\n",
            "/usr/local/lib/python3.10/dist-packages/markdownify/__init__.py:104: MarkupResemblesLocatorWarning: The input looks more like a filename than markup. You may want to open this file and pass the filehandle into Beautiful Soup.\n",
            "  soup = BeautifulSoup(html, 'html.parser')\n",
            "2024-11-20 07:58:33,427 - INFO - JobSpy:Indeed - search page: 3 / 1\n",
            "2024-11-20 07:58:34,555 - INFO - JobSpy:Indeed - search page: 4 / 1\n",
            "2024-11-20 07:58:35,600 - INFO - JobSpy:Indeed - finished scraping\n",
            "2024-11-20 07:58:36,145 - INFO - JobSpy:ZipRecruiter - search page: 2 / 3\n",
            "2024-11-20 07:58:41,756 - INFO - JobSpy:ZipRecruiter - search page: 3 / 3\n",
            "2024-11-20 07:58:42,261 - INFO - JobSpy:ZipRecruiter - finished scraping\n",
            "2024-11-20 07:58:42,650 - INFO - JobSpy:Indeed - search page: 1 / 1\n",
            "2024-11-20 07:58:42,769 - INFO - JobSpy:ZipRecruiter - search page: 1 / 3\n"
          ]
        },
        {
          "output_type": "stream",
          "name": "stdout",
          "text": [
            "Fetched 100 jobs for page 7\n"
          ]
        },
        {
          "output_type": "stream",
          "name": "stderr",
          "text": [
            "2024-11-20 07:58:43,189 - INFO - JobSpy:Glassdoor - finished scraping\n",
            "2024-11-20 07:58:44,133 - INFO - JobSpy:Indeed - search page: 2 / 1\n",
            "/usr/local/lib/python3.10/dist-packages/markdownify/__init__.py:104: MarkupResemblesLocatorWarning: The input looks more like a filename than markup. You may want to open this file and pass the filehandle into Beautiful Soup.\n",
            "  soup = BeautifulSoup(html, 'html.parser')\n",
            "2024-11-20 07:58:45,816 - INFO - JobSpy:Indeed - search page: 3 / 1\n",
            "2024-11-20 07:58:46,956 - INFO - JobSpy:Indeed - search page: 4 / 1\n",
            "2024-11-20 07:58:48,182 - INFO - JobSpy:Indeed - search page: 5 / 1\n",
            "2024-11-20 07:58:48,530 - INFO - JobSpy:ZipRecruiter - search page: 2 / 3\n",
            "2024-11-20 07:58:49,554 - INFO - JobSpy:Indeed - finished scraping\n",
            "2024-11-20 07:58:54,255 - INFO - JobSpy:ZipRecruiter - search page: 3 / 3\n",
            "2024-11-20 07:58:55,066 - INFO - JobSpy:ZipRecruiter - finished scraping\n",
            "2024-11-20 07:58:55,354 - INFO - JobSpy:Indeed - search page: 1 / 1\n",
            "2024-11-20 07:58:55,466 - INFO - JobSpy:ZipRecruiter - search page: 1 / 3\n"
          ]
        },
        {
          "output_type": "stream",
          "name": "stdout",
          "text": [
            "Fetched 100 jobs for page 8\n"
          ]
        },
        {
          "output_type": "stream",
          "name": "stderr",
          "text": [
            "2024-11-20 07:58:55,871 - INFO - JobSpy:Glassdoor - finished scraping\n",
            "2024-11-20 07:58:57,294 - INFO - JobSpy:Indeed - search page: 2 / 1\n",
            "/usr/local/lib/python3.10/dist-packages/markdownify/__init__.py:104: MarkupResemblesLocatorWarning: The input looks more like a filename than markup. You may want to open this file and pass the filehandle into Beautiful Soup.\n",
            "  soup = BeautifulSoup(html, 'html.parser')\n",
            "2024-11-20 07:58:58,894 - INFO - JobSpy:Indeed - search page: 3 / 1\n",
            "2024-11-20 07:59:00,215 - INFO - JobSpy:Indeed - search page: 4 / 1\n",
            "2024-11-20 07:59:01,305 - INFO - JobSpy:ZipRecruiter - search page: 2 / 3\n",
            "2024-11-20 07:59:01,452 - INFO - JobSpy:Indeed - search page: 5 / 1\n",
            "2024-11-20 07:59:02,596 - INFO - JobSpy:Indeed - finished scraping\n",
            "2024-11-20 07:59:06,935 - INFO - JobSpy:ZipRecruiter - search page: 3 / 3\n",
            "2024-11-20 07:59:07,574 - INFO - JobSpy:ZipRecruiter - finished scraping\n",
            "2024-11-20 07:59:07,857 - INFO - JobSpy:Indeed - search page: 1 / 1\n",
            "2024-11-20 07:59:08,041 - INFO - JobSpy:ZipRecruiter - search page: 1 / 3\n"
          ]
        },
        {
          "output_type": "stream",
          "name": "stdout",
          "text": [
            "Fetched 100 jobs for page 9\n"
          ]
        },
        {
          "output_type": "stream",
          "name": "stderr",
          "text": [
            "2024-11-20 07:59:08,117 - ERROR - JobSpy:ZipRecruiter - 429 Response - Blocked by ZipRecruiter for too many requests\n",
            "2024-11-20 07:59:08,119 - INFO - JobSpy:ZipRecruiter - finished scraping\n",
            "2024-11-20 07:59:08,616 - INFO - JobSpy:Glassdoor - finished scraping\n",
            "2024-11-20 07:59:09,435 - INFO - JobSpy:Indeed - search page: 2 / 1\n",
            "/usr/local/lib/python3.10/dist-packages/markdownify/__init__.py:104: MarkupResemblesLocatorWarning: The input looks more like a filename than markup. You may want to open this file and pass the filehandle into Beautiful Soup.\n",
            "  soup = BeautifulSoup(html, 'html.parser')\n",
            "2024-11-20 07:59:11,516 - INFO - JobSpy:Indeed - search page: 3 / 1\n",
            "2024-11-20 07:59:13,211 - INFO - JobSpy:Indeed - search page: 4 / 1\n",
            "2024-11-20 07:59:14,460 - INFO - JobSpy:Indeed - search page: 5 / 1\n",
            "2024-11-20 07:59:15,793 - INFO - JobSpy:Indeed - finished scraping\n",
            "2024-11-20 07:59:16,045 - INFO - JobSpy:Indeed - search page: 1 / 1\n",
            "2024-11-20 07:59:16,180 - INFO - JobSpy:ZipRecruiter - search page: 1 / 3\n"
          ]
        },
        {
          "output_type": "stream",
          "name": "stdout",
          "text": [
            "Fetched 50 jobs for page 10\n"
          ]
        },
        {
          "output_type": "stream",
          "name": "stderr",
          "text": [
            "2024-11-20 07:59:16,252 - ERROR - JobSpy:ZipRecruiter - 429 Response - Blocked by ZipRecruiter for too many requests\n",
            "2024-11-20 07:59:16,255 - INFO - JobSpy:ZipRecruiter - finished scraping\n",
            "2024-11-20 07:59:16,786 - INFO - JobSpy:Glassdoor - finished scraping\n",
            "2024-11-20 07:59:17,536 - INFO - JobSpy:Indeed - search page: 2 / 1\n",
            "/usr/local/lib/python3.10/dist-packages/markdownify/__init__.py:104: MarkupResemblesLocatorWarning: The input looks more like a filename than markup. You may want to open this file and pass the filehandle into Beautiful Soup.\n",
            "  soup = BeautifulSoup(html, 'html.parser')\n",
            "2024-11-20 07:59:18,543 - INFO - JobSpy:Indeed - search page: 3 / 1\n",
            "2024-11-20 07:59:19,650 - INFO - JobSpy:Indeed - search page: 4 / 1\n",
            "2024-11-20 07:59:20,706 - INFO - JobSpy:Indeed - search page: 5 / 1\n",
            "2024-11-20 07:59:21,799 - INFO - JobSpy:Indeed - search page: 6 / 1\n",
            "2024-11-20 07:59:23,264 - INFO - JobSpy:Indeed - finished scraping\n",
            "2024-11-20 07:59:23,475 - INFO - JobSpy:Indeed - search page: 1 / 1\n",
            "2024-11-20 07:59:23,600 - INFO - JobSpy:ZipRecruiter - search page: 1 / 3\n"
          ]
        },
        {
          "output_type": "stream",
          "name": "stdout",
          "text": [
            "Fetched 50 jobs for page 11\n"
          ]
        },
        {
          "output_type": "stream",
          "name": "stderr",
          "text": [
            "2024-11-20 07:59:23,674 - ERROR - JobSpy:ZipRecruiter - 429 Response - Blocked by ZipRecruiter for too many requests\n",
            "2024-11-20 07:59:23,677 - INFO - JobSpy:ZipRecruiter - finished scraping\n",
            "2024-11-20 07:59:23,974 - INFO - JobSpy:Glassdoor - finished scraping\n",
            "2024-11-20 07:59:25,306 - INFO - JobSpy:Indeed - search page: 2 / 1\n",
            "/usr/local/lib/python3.10/dist-packages/markdownify/__init__.py:104: MarkupResemblesLocatorWarning: The input looks more like a filename than markup. You may want to open this file and pass the filehandle into Beautiful Soup.\n",
            "  soup = BeautifulSoup(html, 'html.parser')\n",
            "2024-11-20 07:59:26,516 - INFO - JobSpy:Indeed - search page: 3 / 1\n",
            "2024-11-20 07:59:27,597 - INFO - JobSpy:Indeed - search page: 4 / 1\n",
            "2024-11-20 07:59:28,645 - INFO - JobSpy:Indeed - search page: 5 / 1\n",
            "2024-11-20 07:59:29,804 - INFO - JobSpy:Indeed - search page: 6 / 1\n",
            "2024-11-20 07:59:30,872 - INFO - JobSpy:Indeed - search page: 7 / 1\n",
            "2024-11-20 07:59:31,902 - INFO - JobSpy:Indeed - finished scraping\n",
            "2024-11-20 07:59:32,065 - INFO - JobSpy:Indeed - search page: 1 / 1\n",
            "2024-11-20 07:59:32,175 - INFO - JobSpy:ZipRecruiter - search page: 1 / 3\n"
          ]
        },
        {
          "output_type": "stream",
          "name": "stdout",
          "text": [
            "Fetched 50 jobs for page 12\n"
          ]
        },
        {
          "output_type": "stream",
          "name": "stderr",
          "text": [
            "2024-11-20 07:59:33,123 - INFO - JobSpy:Glassdoor - finished scraping\n",
            "2024-11-20 07:59:33,300 - INFO - JobSpy:Indeed - search page: 2 / 1\n",
            "/usr/local/lib/python3.10/dist-packages/markdownify/__init__.py:104: MarkupResemblesLocatorWarning: The input looks more like a filename than markup. You may want to open this file and pass the filehandle into Beautiful Soup.\n",
            "  soup = BeautifulSoup(html, 'html.parser')\n",
            "2024-11-20 07:59:34,400 - INFO - JobSpy:Indeed - search page: 3 / 1\n",
            "2024-11-20 07:59:35,984 - INFO - JobSpy:Indeed - search page: 4 / 1\n",
            "2024-11-20 07:59:37,739 - INFO - JobSpy:Indeed - search page: 5 / 1\n",
            "2024-11-20 07:59:37,904 - INFO - JobSpy:ZipRecruiter - search page: 2 / 3\n",
            "2024-11-20 07:59:38,858 - INFO - JobSpy:Indeed - search page: 6 / 1\n",
            "2024-11-20 07:59:40,051 - INFO - JobSpy:Indeed - search page: 7 / 1\n",
            "2024-11-20 07:59:41,133 - INFO - JobSpy:Indeed - finished scraping\n",
            "2024-11-20 07:59:43,632 - INFO - JobSpy:ZipRecruiter - search page: 3 / 3\n",
            "2024-11-20 07:59:44,177 - INFO - JobSpy:ZipRecruiter - finished scraping\n",
            "2024-11-20 07:59:44,574 - INFO - JobSpy:Indeed - search page: 1 / 1\n",
            "2024-11-20 07:59:44,691 - INFO - JobSpy:ZipRecruiter - search page: 1 / 3\n"
          ]
        },
        {
          "output_type": "stream",
          "name": "stdout",
          "text": [
            "Fetched 100 jobs for page 13\n"
          ]
        },
        {
          "output_type": "stream",
          "name": "stderr",
          "text": [
            "2024-11-20 07:59:45,157 - INFO - JobSpy:Glassdoor - finished scraping\n",
            "2024-11-20 07:59:45,987 - INFO - JobSpy:Indeed - search page: 2 / 1\n",
            "/usr/local/lib/python3.10/dist-packages/markdownify/__init__.py:104: MarkupResemblesLocatorWarning: The input looks more like a filename than markup. You may want to open this file and pass the filehandle into Beautiful Soup.\n",
            "  soup = BeautifulSoup(html, 'html.parser')\n",
            "2024-11-20 07:59:47,015 - INFO - JobSpy:Indeed - search page: 3 / 1\n",
            "2024-11-20 07:59:48,441 - INFO - JobSpy:Indeed - search page: 4 / 1\n",
            "2024-11-20 07:59:50,032 - INFO - JobSpy:Indeed - search page: 5 / 1\n",
            "2024-11-20 07:59:50,396 - INFO - JobSpy:ZipRecruiter - search page: 2 / 3\n",
            "2024-11-20 07:59:51,290 - INFO - JobSpy:Indeed - search page: 6 / 1\n",
            "2024-11-20 07:59:52,524 - INFO - JobSpy:Indeed - search page: 7 / 1\n",
            "2024-11-20 07:59:53,650 - INFO - JobSpy:Indeed - finished scraping\n",
            "2024-11-20 07:59:56,167 - INFO - JobSpy:ZipRecruiter - search page: 3 / 3\n",
            "2024-11-20 07:59:56,791 - INFO - JobSpy:ZipRecruiter - finished scraping\n",
            "2024-11-20 07:59:57,191 - INFO - JobSpy:Indeed - search page: 1 / 1\n",
            "2024-11-20 07:59:57,333 - INFO - JobSpy:ZipRecruiter - search page: 1 / 3\n"
          ]
        },
        {
          "output_type": "stream",
          "name": "stdout",
          "text": [
            "Fetched 100 jobs for page 14\n"
          ]
        },
        {
          "output_type": "stream",
          "name": "stderr",
          "text": [
            "2024-11-20 07:59:58,398 - INFO - JobSpy:Indeed - search page: 2 / 1\n",
            "2024-11-20 07:59:58,438 - INFO - JobSpy:Glassdoor - finished scraping\n",
            "/usr/local/lib/python3.10/dist-packages/markdownify/__init__.py:104: MarkupResemblesLocatorWarning: The input looks more like a filename than markup. You may want to open this file and pass the filehandle into Beautiful Soup.\n",
            "  soup = BeautifulSoup(html, 'html.parser')\n",
            "2024-11-20 07:59:59,464 - INFO - JobSpy:Indeed - search page: 3 / 1\n",
            "2024-11-20 08:00:01,095 - INFO - JobSpy:Indeed - search page: 4 / 1\n",
            "2024-11-20 08:00:02,769 - INFO - JobSpy:Indeed - search page: 5 / 1\n",
            "2024-11-20 08:00:03,042 - INFO - JobSpy:ZipRecruiter - search page: 2 / 3\n",
            "2024-11-20 08:00:04,107 - INFO - JobSpy:Indeed - search page: 6 / 1\n",
            "2024-11-20 08:00:05,160 - INFO - JobSpy:Indeed - search page: 7 / 1\n",
            "2024-11-20 08:00:06,181 - INFO - JobSpy:Indeed - search page: 8 / 1\n",
            "2024-11-20 08:00:07,442 - INFO - JobSpy:Indeed - finished scraping\n",
            "2024-11-20 08:00:08,858 - INFO - JobSpy:ZipRecruiter - search page: 3 / 3\n",
            "2024-11-20 08:00:09,349 - INFO - JobSpy:ZipRecruiter - finished scraping\n",
            "2024-11-20 08:00:09,752 - INFO - JobSpy:Indeed - search page: 1 / 1\n",
            "2024-11-20 08:00:09,864 - INFO - JobSpy:ZipRecruiter - search page: 1 / 3\n",
            "2024-11-20 08:00:09,895 - INFO - JobSpy:Glassdoor - finished scraping\n"
          ]
        },
        {
          "output_type": "stream",
          "name": "stdout",
          "text": [
            "Fetched 100 jobs for page 15\n"
          ]
        },
        {
          "output_type": "stream",
          "name": "stderr",
          "text": [
            "2024-11-20 08:00:11,072 - INFO - JobSpy:Indeed - search page: 2 / 1\n",
            "/usr/local/lib/python3.10/dist-packages/markdownify/__init__.py:104: MarkupResemblesLocatorWarning: The input looks more like a filename than markup. You may want to open this file and pass the filehandle into Beautiful Soup.\n",
            "  soup = BeautifulSoup(html, 'html.parser')\n",
            "2024-11-20 08:00:12,235 - INFO - JobSpy:Indeed - search page: 3 / 1\n",
            "2024-11-20 08:00:13,943 - INFO - JobSpy:Indeed - search page: 4 / 1\n",
            "2024-11-20 08:00:15,604 - INFO - JobSpy:ZipRecruiter - search page: 2 / 3\n",
            "2024-11-20 08:00:15,675 - INFO - JobSpy:Indeed - search page: 5 / 1\n",
            "2024-11-20 08:00:16,872 - INFO - JobSpy:Indeed - search page: 6 / 1\n",
            "2024-11-20 08:00:18,068 - INFO - JobSpy:Indeed - search page: 7 / 1\n",
            "2024-11-20 08:00:19,217 - INFO - JobSpy:Indeed - search page: 8 / 1\n",
            "2024-11-20 08:00:20,519 - INFO - JobSpy:Indeed - finished scraping\n",
            "2024-11-20 08:00:21,220 - INFO - JobSpy:ZipRecruiter - search page: 3 / 3\n",
            "2024-11-20 08:00:21,876 - INFO - JobSpy:ZipRecruiter - finished scraping\n",
            "2024-11-20 08:00:22,287 - INFO - JobSpy:Indeed - search page: 1 / 1\n",
            "2024-11-20 08:00:22,426 - INFO - JobSpy:ZipRecruiter - search page: 1 / 3\n"
          ]
        },
        {
          "output_type": "stream",
          "name": "stdout",
          "text": [
            "Fetched 100 jobs for page 16\n"
          ]
        },
        {
          "output_type": "stream",
          "name": "stderr",
          "text": [
            "2024-11-20 08:00:23,504 - INFO - JobSpy:Indeed - search page: 2 / 1\n",
            "2024-11-20 08:00:23,994 - INFO - JobSpy:Glassdoor - finished scraping\n",
            "/usr/local/lib/python3.10/dist-packages/markdownify/__init__.py:104: MarkupResemblesLocatorWarning: The input looks more like a filename than markup. You may want to open this file and pass the filehandle into Beautiful Soup.\n",
            "  soup = BeautifulSoup(html, 'html.parser')\n",
            "2024-11-20 08:00:24,547 - INFO - JobSpy:Indeed - search page: 3 / 1\n",
            "2024-11-20 08:00:25,702 - INFO - JobSpy:Indeed - search page: 4 / 1\n",
            "2024-11-20 08:00:27,164 - INFO - JobSpy:Indeed - search page: 5 / 1\n",
            "2024-11-20 08:00:28,179 - INFO - JobSpy:ZipRecruiter - search page: 2 / 3\n",
            "2024-11-20 08:00:28,515 - INFO - JobSpy:Indeed - search page: 6 / 1\n",
            "2024-11-20 08:00:29,550 - INFO - JobSpy:Indeed - search page: 7 / 1\n",
            "2024-11-20 08:00:30,706 - INFO - JobSpy:Indeed - search page: 8 / 1\n",
            "2024-11-20 08:00:32,024 - INFO - JobSpy:Indeed - search page: 9 / 1\n",
            "2024-11-20 08:00:33,042 - INFO - JobSpy:Indeed - finished scraping\n",
            "2024-11-20 08:00:33,840 - INFO - JobSpy:ZipRecruiter - search page: 3 / 3\n",
            "2024-11-20 08:00:34,381 - INFO - JobSpy:ZipRecruiter - finished scraping\n",
            "2024-11-20 08:00:34,779 - INFO - JobSpy:Indeed - search page: 1 / 1\n"
          ]
        },
        {
          "output_type": "stream",
          "name": "stdout",
          "text": [
            "Fetched 100 jobs for page 17\n"
          ]
        },
        {
          "output_type": "stream",
          "name": "stderr",
          "text": [
            "2024-11-20 08:00:34,987 - INFO - JobSpy:ZipRecruiter - search page: 1 / 3\n",
            "2024-11-20 08:00:35,932 - INFO - JobSpy:Glassdoor - finished scraping\n",
            "2024-11-20 08:00:36,200 - INFO - JobSpy:Indeed - search page: 2 / 1\n",
            "/usr/local/lib/python3.10/dist-packages/markdownify/__init__.py:104: MarkupResemblesLocatorWarning: The input looks more like a filename than markup. You may want to open this file and pass the filehandle into Beautiful Soup.\n",
            "  soup = BeautifulSoup(html, 'html.parser')\n",
            "2024-11-20 08:00:37,418 - INFO - JobSpy:Indeed - search page: 3 / 1\n",
            "2024-11-20 08:00:39,014 - INFO - JobSpy:Indeed - search page: 4 / 1\n",
            "2024-11-20 08:00:40,642 - INFO - JobSpy:Indeed - search page: 5 / 1\n",
            "2024-11-20 08:00:40,747 - INFO - JobSpy:ZipRecruiter - search page: 2 / 3\n",
            "2024-11-20 08:00:41,888 - INFO - JobSpy:Indeed - search page: 6 / 1\n",
            "2024-11-20 08:00:42,941 - INFO - JobSpy:Indeed - search page: 7 / 1\n",
            "2024-11-20 08:00:43,943 - INFO - JobSpy:Indeed - search page: 8 / 1\n",
            "2024-11-20 08:00:45,057 - INFO - JobSpy:Indeed - search page: 9 / 1\n",
            "2024-11-20 08:00:46,182 - INFO - JobSpy:Indeed - finished scraping\n",
            "2024-11-20 08:00:46,489 - INFO - JobSpy:ZipRecruiter - search page: 3 / 3\n",
            "2024-11-20 08:00:47,018 - INFO - JobSpy:ZipRecruiter - finished scraping\n",
            "2024-11-20 08:00:47,424 - INFO - JobSpy:Indeed - search page: 1 / 1\n",
            "2024-11-20 08:00:47,541 - INFO - JobSpy:ZipRecruiter - search page: 1 / 3\n"
          ]
        },
        {
          "output_type": "stream",
          "name": "stdout",
          "text": [
            "Fetched 100 jobs for page 18\n"
          ]
        },
        {
          "output_type": "stream",
          "name": "stderr",
          "text": [
            "2024-11-20 08:00:48,638 - INFO - JobSpy:Indeed - search page: 2 / 1\n",
            "2024-11-20 08:00:48,817 - INFO - JobSpy:Glassdoor - finished scraping\n",
            "/usr/local/lib/python3.10/dist-packages/markdownify/__init__.py:104: MarkupResemblesLocatorWarning: The input looks more like a filename than markup. You may want to open this file and pass the filehandle into Beautiful Soup.\n",
            "  soup = BeautifulSoup(html, 'html.parser')\n",
            "2024-11-20 08:00:49,717 - INFO - JobSpy:Indeed - search page: 3 / 1\n",
            "2024-11-20 08:00:50,858 - INFO - JobSpy:Indeed - search page: 4 / 1\n",
            "2024-11-20 08:00:52,435 - INFO - JobSpy:Indeed - search page: 5 / 1\n",
            "2024-11-20 08:00:53,271 - INFO - JobSpy:ZipRecruiter - search page: 2 / 3\n",
            "2024-11-20 08:00:53,606 - INFO - JobSpy:Indeed - search page: 6 / 1\n",
            "2024-11-20 08:00:54,675 - INFO - JobSpy:Indeed - search page: 7 / 1\n",
            "2024-11-20 08:00:55,820 - INFO - JobSpy:Indeed - search page: 8 / 1\n",
            "2024-11-20 08:00:57,157 - INFO - JobSpy:Indeed - search page: 9 / 1\n",
            "2024-11-20 08:00:58,350 - INFO - JobSpy:Indeed - search page: 10 / 1\n",
            "2024-11-20 08:00:58,901 - INFO - JobSpy:ZipRecruiter - search page: 3 / 3\n",
            "2024-11-20 08:00:59,579 - INFO - JobSpy:ZipRecruiter - finished scraping\n",
            "2024-11-20 08:00:59,594 - INFO - JobSpy:Indeed - finished scraping\n",
            "2024-11-20 08:01:00,016 - INFO - JobSpy:Indeed - search page: 1 / 1\n",
            "2024-11-20 08:01:00,149 - INFO - JobSpy:ZipRecruiter - search page: 1 / 3\n"
          ]
        },
        {
          "output_type": "stream",
          "name": "stdout",
          "text": [
            "Fetched 100 jobs for page 19\n"
          ]
        },
        {
          "output_type": "stream",
          "name": "stderr",
          "text": [
            "2024-11-20 08:01:00,785 - INFO - JobSpy:Glassdoor - finished scraping\n",
            "2024-11-20 08:01:01,320 - INFO - JobSpy:Indeed - search page: 2 / 1\n",
            "/usr/local/lib/python3.10/dist-packages/markdownify/__init__.py:104: MarkupResemblesLocatorWarning: The input looks more like a filename than markup. You may want to open this file and pass the filehandle into Beautiful Soup.\n",
            "  soup = BeautifulSoup(html, 'html.parser')\n",
            "2024-11-20 08:01:02,371 - INFO - JobSpy:Indeed - search page: 3 / 1\n",
            "2024-11-20 08:01:03,757 - INFO - JobSpy:Indeed - search page: 4 / 1\n",
            "2024-11-20 08:01:05,318 - INFO - JobSpy:Indeed - search page: 5 / 1\n",
            "2024-11-20 08:01:05,892 - INFO - JobSpy:ZipRecruiter - search page: 2 / 3\n",
            "2024-11-20 08:01:06,383 - INFO - JobSpy:Indeed - search page: 6 / 1\n",
            "2024-11-20 08:01:07,412 - INFO - JobSpy:Indeed - search page: 7 / 1\n",
            "2024-11-20 08:01:08,359 - INFO - JobSpy:Indeed - search page: 8 / 1\n",
            "2024-11-20 08:01:09,523 - INFO - JobSpy:Indeed - search page: 9 / 1\n",
            "2024-11-20 08:01:10,605 - INFO - JobSpy:Indeed - search page: 10 / 1\n",
            "2024-11-20 08:01:11,539 - INFO - JobSpy:ZipRecruiter - search page: 3 / 3\n",
            "2024-11-20 08:01:11,581 - INFO - JobSpy:Indeed - finished scraping\n",
            "2024-11-20 08:01:12,029 - INFO - JobSpy:ZipRecruiter - finished scraping\n",
            "2024-11-20 08:01:12,432 - INFO - JobSpy:Indeed - search page: 1 / 1\n",
            "2024-11-20 08:01:12,559 - INFO - JobSpy:ZipRecruiter - search page: 1 / 3\n"
          ]
        },
        {
          "output_type": "stream",
          "name": "stdout",
          "text": [
            "Fetched 100 jobs for page 20\n",
            "Searching for 'Software Engineer' in 'Austin, TX'...\n"
          ]
        },
        {
          "output_type": "stream",
          "name": "stderr",
          "text": [
            "2024-11-20 08:01:12,634 - ERROR - JobSpy:ZipRecruiter - 429 Response - Blocked by ZipRecruiter for too many requests\n",
            "2024-11-20 08:01:12,637 - INFO - JobSpy:ZipRecruiter - finished scraping\n",
            "2024-11-20 08:01:13,012 - INFO - JobSpy:Glassdoor - search page: 1 / 2\n",
            "/usr/local/lib/python3.10/dist-packages/markdownify/__init__.py:104: MarkupResemblesLocatorWarning: The input looks more like a filename than markup. You may want to open this file and pass the filehandle into Beautiful Soup.\n",
            "  soup = BeautifulSoup(html, 'html.parser')\n",
            "2024-11-20 08:01:14,197 - INFO - JobSpy:Indeed - finished scraping\n",
            "2024-11-20 08:01:15,452 - INFO - JobSpy:Glassdoor - search page: 2 / 2\n",
            "2024-11-20 08:01:16,439 - INFO - JobSpy:Glassdoor - finished scraping\n",
            "2024-11-20 08:01:16,952 - INFO - JobSpy:Indeed - search page: 1 / 1\n",
            "2024-11-20 08:01:17,074 - INFO - JobSpy:ZipRecruiter - search page: 1 / 3\n",
            "2024-11-20 08:01:17,150 - ERROR - JobSpy:ZipRecruiter - 429 Response - Blocked by ZipRecruiter for too many requests\n"
          ]
        },
        {
          "output_type": "stream",
          "name": "stdout",
          "text": [
            "Fetched 100 jobs for page 1\n"
          ]
        },
        {
          "output_type": "stream",
          "name": "stderr",
          "text": [
            "2024-11-20 08:01:17,153 - INFO - JobSpy:ZipRecruiter - finished scraping\n",
            "2024-11-20 08:01:17,879 - INFO - JobSpy:Glassdoor - search page: 2 / 2\n",
            "2024-11-20 08:01:18,980 - INFO - JobSpy:Indeed - finished scraping\n",
            "2024-11-20 08:01:19,105 - INFO - JobSpy:Glassdoor - finished scraping\n",
            "2024-11-20 08:01:19,442 - INFO - JobSpy:Indeed - search page: 1 / 1\n",
            "2024-11-20 08:01:19,547 - INFO - JobSpy:ZipRecruiter - search page: 1 / 3\n",
            "2024-11-20 08:01:19,611 - ERROR - JobSpy:ZipRecruiter - 429 Response - Blocked by ZipRecruiter for too many requests\n",
            "2024-11-20 08:01:19,613 - INFO - JobSpy:ZipRecruiter - finished scraping\n"
          ]
        },
        {
          "output_type": "stream",
          "name": "stdout",
          "text": [
            "Fetched 80 jobs for page 2\n"
          ]
        },
        {
          "output_type": "stream",
          "name": "stderr",
          "text": [
            "2024-11-20 08:01:19,998 - INFO - JobSpy:Glassdoor - finished scraping\n",
            "2024-11-20 08:01:20,615 - INFO - JobSpy:Indeed - search page: 2 / 1\n",
            "/usr/local/lib/python3.10/dist-packages/markdownify/__init__.py:104: MarkupResemblesLocatorWarning: The input looks more like a filename than markup. You may want to open this file and pass the filehandle into Beautiful Soup.\n",
            "  soup = BeautifulSoup(html, 'html.parser')\n",
            "2024-11-20 08:01:21,769 - INFO - JobSpy:Indeed - finished scraping\n",
            "2024-11-20 08:01:21,911 - INFO - JobSpy:Indeed - search page: 1 / 1\n",
            "2024-11-20 08:01:22,093 - INFO - JobSpy:ZipRecruiter - search page: 1 / 3\n"
          ]
        },
        {
          "output_type": "stream",
          "name": "stdout",
          "text": [
            "Fetched 50 jobs for page 3\n"
          ]
        },
        {
          "output_type": "stream",
          "name": "stderr",
          "text": [
            "2024-11-20 08:01:22,161 - ERROR - JobSpy:ZipRecruiter - 429 Response - Blocked by ZipRecruiter for too many requests\n",
            "2024-11-20 08:01:22,163 - INFO - JobSpy:ZipRecruiter - finished scraping\n",
            "2024-11-20 08:01:22,633 - INFO - JobSpy:Glassdoor - finished scraping\n",
            "2024-11-20 08:01:23,288 - INFO - JobSpy:Indeed - search page: 2 / 1\n",
            "/usr/local/lib/python3.10/dist-packages/markdownify/__init__.py:104: MarkupResemblesLocatorWarning: The input looks more like a filename than markup. You may want to open this file and pass the filehandle into Beautiful Soup.\n",
            "  soup = BeautifulSoup(html, 'html.parser')\n",
            "2024-11-20 08:01:24,646 - INFO - JobSpy:Indeed - finished scraping\n",
            "2024-11-20 08:01:24,801 - INFO - JobSpy:Indeed - search page: 1 / 1\n",
            "2024-11-20 08:01:24,912 - INFO - JobSpy:ZipRecruiter - search page: 1 / 3\n",
            "2024-11-20 08:01:24,979 - ERROR - JobSpy:ZipRecruiter - 429 Response - Blocked by ZipRecruiter for too many requests\n",
            "2024-11-20 08:01:24,981 - INFO - JobSpy:ZipRecruiter - finished scraping\n"
          ]
        },
        {
          "output_type": "stream",
          "name": "stdout",
          "text": [
            "Fetched 50 jobs for page 4\n"
          ]
        },
        {
          "output_type": "stream",
          "name": "stderr",
          "text": [
            "2024-11-20 08:01:25,452 - INFO - JobSpy:Glassdoor - finished scraping\n",
            "2024-11-20 08:01:26,031 - INFO - JobSpy:Indeed - search page: 2 / 1\n",
            "/usr/local/lib/python3.10/dist-packages/markdownify/__init__.py:104: MarkupResemblesLocatorWarning: The input looks more like a filename than markup. You may want to open this file and pass the filehandle into Beautiful Soup.\n",
            "  soup = BeautifulSoup(html, 'html.parser')\n",
            "2024-11-20 08:01:27,194 - INFO - JobSpy:Indeed - search page: 3 / 1\n",
            "2024-11-20 08:01:28,519 - INFO - JobSpy:Indeed - finished scraping\n",
            "2024-11-20 08:01:28,867 - INFO - JobSpy:Indeed - search page: 1 / 1\n",
            "2024-11-20 08:01:29,018 - INFO - JobSpy:Glassdoor - finished scraping\n",
            "2024-11-20 08:01:29,023 - INFO - JobSpy:ZipRecruiter - search page: 1 / 3\n"
          ]
        },
        {
          "output_type": "stream",
          "name": "stdout",
          "text": [
            "Fetched 50 jobs for page 5\n"
          ]
        },
        {
          "output_type": "stream",
          "name": "stderr",
          "text": [
            "2024-11-20 08:01:29,098 - ERROR - JobSpy:ZipRecruiter - 429 Response - Blocked by ZipRecruiter for too many requests\n",
            "2024-11-20 08:01:29,100 - INFO - JobSpy:ZipRecruiter - finished scraping\n",
            "2024-11-20 08:01:30,782 - INFO - JobSpy:Indeed - search page: 2 / 1\n",
            "/usr/local/lib/python3.10/dist-packages/markdownify/__init__.py:104: MarkupResemblesLocatorWarning: The input looks more like a filename than markup. You may want to open this file and pass the filehandle into Beautiful Soup.\n",
            "  soup = BeautifulSoup(html, 'html.parser')\n",
            "2024-11-20 08:01:32,149 - INFO - JobSpy:Indeed - search page: 3 / 1\n",
            "2024-11-20 08:01:33,399 - INFO - JobSpy:Indeed - finished scraping\n",
            "2024-11-20 08:01:33,563 - INFO - JobSpy:Indeed - search page: 1 / 1\n",
            "2024-11-20 08:01:33,692 - INFO - JobSpy:ZipRecruiter - search page: 1 / 3\n",
            "2024-11-20 08:01:33,714 - INFO - JobSpy:Glassdoor - finished scraping\n"
          ]
        },
        {
          "output_type": "stream",
          "name": "stdout",
          "text": [
            "Fetched 50 jobs for page 6\n"
          ]
        },
        {
          "output_type": "stream",
          "name": "stderr",
          "text": [
            "2024-11-20 08:01:35,023 - INFO - JobSpy:Indeed - search page: 2 / 1\n",
            "/usr/local/lib/python3.10/dist-packages/markdownify/__init__.py:104: MarkupResemblesLocatorWarning: The input looks more like a filename than markup. You may want to open this file and pass the filehandle into Beautiful Soup.\n",
            "  soup = BeautifulSoup(html, 'html.parser')\n",
            "2024-11-20 08:01:36,408 - INFO - JobSpy:Indeed - search page: 3 / 1\n",
            "2024-11-20 08:01:37,782 - INFO - JobSpy:Indeed - search page: 4 / 1\n",
            "2024-11-20 08:01:38,782 - INFO - JobSpy:Indeed - finished scraping\n",
            "2024-11-20 08:01:39,407 - INFO - JobSpy:ZipRecruiter - search page: 2 / 3\n",
            "2024-11-20 08:01:44,907 - INFO - JobSpy:ZipRecruiter - search page: 3 / 3\n",
            "2024-11-20 08:01:45,458 - INFO - JobSpy:ZipRecruiter - finished scraping\n",
            "2024-11-20 08:01:45,744 - INFO - JobSpy:Indeed - search page: 1 / 1\n",
            "2024-11-20 08:01:45,907 - INFO - JobSpy:Glassdoor - finished scraping\n"
          ]
        },
        {
          "output_type": "stream",
          "name": "stdout",
          "text": [
            "Fetched 100 jobs for page 7\n"
          ]
        },
        {
          "output_type": "stream",
          "name": "stderr",
          "text": [
            "2024-11-20 08:01:45,964 - INFO - JobSpy:ZipRecruiter - search page: 1 / 3\n",
            "2024-11-20 08:01:47,061 - INFO - JobSpy:Indeed - search page: 2 / 1\n",
            "/usr/local/lib/python3.10/dist-packages/markdownify/__init__.py:104: MarkupResemblesLocatorWarning: The input looks more like a filename than markup. You may want to open this file and pass the filehandle into Beautiful Soup.\n",
            "  soup = BeautifulSoup(html, 'html.parser')\n",
            "2024-11-20 08:01:48,447 - INFO - JobSpy:Indeed - search page: 3 / 1\n",
            "2024-11-20 08:01:49,700 - INFO - JobSpy:Indeed - search page: 4 / 1\n",
            "2024-11-20 08:01:50,678 - INFO - JobSpy:Indeed - finished scraping\n",
            "2024-11-20 08:01:51,668 - INFO - JobSpy:ZipRecruiter - search page: 2 / 3\n",
            "2024-11-20 08:01:57,182 - INFO - JobSpy:ZipRecruiter - search page: 3 / 3\n",
            "2024-11-20 08:01:57,872 - INFO - JobSpy:ZipRecruiter - finished scraping\n",
            "2024-11-20 08:01:58,154 - INFO - JobSpy:Indeed - search page: 1 / 1\n",
            "2024-11-20 08:01:58,279 - INFO - JobSpy:ZipRecruiter - search page: 1 / 3\n",
            "2024-11-20 08:01:58,298 - INFO - JobSpy:Glassdoor - finished scraping\n"
          ]
        },
        {
          "output_type": "stream",
          "name": "stdout",
          "text": [
            "Fetched 100 jobs for page 8\n"
          ]
        },
        {
          "output_type": "stream",
          "name": "stderr",
          "text": [
            "2024-11-20 08:01:59,581 - INFO - JobSpy:Indeed - search page: 2 / 1\n",
            "/usr/local/lib/python3.10/dist-packages/markdownify/__init__.py:104: MarkupResemblesLocatorWarning: The input looks more like a filename than markup. You may want to open this file and pass the filehandle into Beautiful Soup.\n",
            "  soup = BeautifulSoup(html, 'html.parser')\n",
            "2024-11-20 08:02:00,924 - INFO - JobSpy:Indeed - search page: 3 / 1\n",
            "2024-11-20 08:02:02,091 - INFO - JobSpy:Indeed - search page: 4 / 1\n",
            "2024-11-20 08:02:03,054 - INFO - JobSpy:Indeed - search page: 5 / 1\n",
            "2024-11-20 08:02:03,478 - INFO - JobSpy:Indeed - search page: 6 / 1\n",
            "2024-11-20 08:02:03,993 - INFO - JobSpy:ZipRecruiter - search page: 2 / 3\n",
            "2024-11-20 08:02:03,995 - INFO - JobSpy:Indeed - found no jobs on page: 6\n",
            "2024-11-20 08:02:04,002 - INFO - JobSpy:Indeed - finished scraping\n",
            "2024-11-20 08:02:09,512 - INFO - JobSpy:ZipRecruiter - search page: 3 / 3\n",
            "2024-11-20 08:02:10,082 - INFO - JobSpy:ZipRecruiter - finished scraping\n",
            "2024-11-20 08:02:10,388 - INFO - JobSpy:Indeed - search page: 1 / 1\n",
            "2024-11-20 08:02:10,510 - INFO - JobSpy:ZipRecruiter - search page: 1 / 3\n",
            "2024-11-20 08:02:10,582 - INFO - JobSpy:Glassdoor - finished scraping\n"
          ]
        },
        {
          "output_type": "stream",
          "name": "stdout",
          "text": [
            "Fetched 70 jobs for page 9\n"
          ]
        },
        {
          "output_type": "stream",
          "name": "stderr",
          "text": [
            "2024-11-20 08:02:11,817 - INFO - JobSpy:Indeed - search page: 2 / 1\n",
            "/usr/local/lib/python3.10/dist-packages/markdownify/__init__.py:104: MarkupResemblesLocatorWarning: The input looks more like a filename than markup. You may want to open this file and pass the filehandle into Beautiful Soup.\n",
            "  soup = BeautifulSoup(html, 'html.parser')\n",
            "2024-11-20 08:02:13,147 - INFO - JobSpy:Indeed - search page: 3 / 1\n",
            "2024-11-20 08:02:14,396 - INFO - JobSpy:Indeed - search page: 4 / 1\n",
            "2024-11-20 08:02:15,453 - INFO - JobSpy:Indeed - search page: 5 / 1\n",
            "2024-11-20 08:02:15,811 - INFO - JobSpy:Indeed - search page: 6 / 1\n",
            "2024-11-20 08:02:16,302 - INFO - JobSpy:ZipRecruiter - search page: 2 / 3\n",
            "2024-11-20 08:02:16,338 - INFO - JobSpy:Indeed - found no jobs on page: 6\n",
            "2024-11-20 08:02:16,342 - INFO - JobSpy:Indeed - finished scraping\n",
            "2024-11-20 08:02:21,821 - INFO - JobSpy:ZipRecruiter - search page: 3 / 3\n",
            "2024-11-20 08:02:22,472 - INFO - JobSpy:ZipRecruiter - finished scraping\n",
            "2024-11-20 08:02:22,608 - INFO - JobSpy:Indeed - search page: 1 / 1\n",
            "2024-11-20 08:02:22,735 - INFO - JobSpy:ZipRecruiter - search page: 1 / 3\n",
            "2024-11-20 08:02:22,759 - INFO - JobSpy:Glassdoor - finished scraping\n"
          ]
        },
        {
          "output_type": "stream",
          "name": "stdout",
          "text": [
            "Fetched 50 jobs for page 10\n"
          ]
        },
        {
          "output_type": "stream",
          "name": "stderr",
          "text": [
            "2024-11-20 08:02:24,031 - INFO - JobSpy:Indeed - search page: 2 / 1\n",
            "/usr/local/lib/python3.10/dist-packages/markdownify/__init__.py:104: MarkupResemblesLocatorWarning: The input looks more like a filename than markup. You may want to open this file and pass the filehandle into Beautiful Soup.\n",
            "  soup = BeautifulSoup(html, 'html.parser')\n",
            "2024-11-20 08:02:25,368 - INFO - JobSpy:Indeed - search page: 3 / 1\n",
            "2024-11-20 08:02:26,680 - INFO - JobSpy:Indeed - search page: 4 / 1\n",
            "2024-11-20 08:02:27,746 - INFO - JobSpy:Indeed - search page: 5 / 1\n",
            "2024-11-20 08:02:28,171 - INFO - JobSpy:Indeed - search page: 6 / 1\n",
            "2024-11-20 08:02:28,458 - INFO - JobSpy:ZipRecruiter - search page: 2 / 3\n",
            "2024-11-20 08:02:28,623 - INFO - JobSpy:Indeed - found no jobs on page: 6\n",
            "2024-11-20 08:02:28,628 - INFO - JobSpy:Indeed - finished scraping\n",
            "2024-11-20 08:02:34,025 - INFO - JobSpy:ZipRecruiter - search page: 3 / 3\n",
            "2024-11-20 08:02:34,589 - INFO - JobSpy:ZipRecruiter - finished scraping\n",
            "2024-11-20 08:02:34,719 - INFO - JobSpy:Indeed - search page: 1 / 1\n",
            "2024-11-20 08:02:34,843 - INFO - JobSpy:ZipRecruiter - search page: 1 / 3\n",
            "2024-11-20 08:02:34,854 - INFO - JobSpy:Glassdoor - finished scraping\n"
          ]
        },
        {
          "output_type": "stream",
          "name": "stdout",
          "text": [
            "Fetched 50 jobs for page 11\n"
          ]
        },
        {
          "output_type": "stream",
          "name": "stderr",
          "text": [
            "2024-11-20 08:02:36,147 - INFO - JobSpy:Indeed - search page: 2 / 1\n",
            "/usr/local/lib/python3.10/dist-packages/markdownify/__init__.py:104: MarkupResemblesLocatorWarning: The input looks more like a filename than markup. You may want to open this file and pass the filehandle into Beautiful Soup.\n",
            "  soup = BeautifulSoup(html, 'html.parser')\n",
            "2024-11-20 08:02:37,383 - INFO - JobSpy:Indeed - search page: 3 / 1\n",
            "2024-11-20 08:02:38,429 - INFO - JobSpy:Indeed - search page: 4 / 1\n",
            "2024-11-20 08:02:39,325 - INFO - JobSpy:Indeed - search page: 5 / 1\n",
            "2024-11-20 08:02:39,674 - INFO - JobSpy:Indeed - search page: 6 / 1\n",
            "2024-11-20 08:02:40,000 - INFO - JobSpy:Indeed - found no jobs on page: 6\n",
            "2024-11-20 08:02:40,004 - INFO - JobSpy:Indeed - finished scraping\n",
            "2024-11-20 08:02:40,620 - INFO - JobSpy:ZipRecruiter - search page: 2 / 3\n",
            "2024-11-20 08:02:46,183 - INFO - JobSpy:ZipRecruiter - search page: 3 / 3\n",
            "2024-11-20 08:02:46,847 - INFO - JobSpy:ZipRecruiter - finished scraping\n",
            "2024-11-20 08:02:46,996 - INFO - JobSpy:Indeed - search page: 1 / 1\n",
            "2024-11-20 08:02:47,107 - INFO - JobSpy:ZipRecruiter - search page: 1 / 3\n",
            "2024-11-20 08:02:47,138 - INFO - JobSpy:Glassdoor - finished scraping\n"
          ]
        },
        {
          "output_type": "stream",
          "name": "stdout",
          "text": [
            "Fetched 50 jobs for page 12\n"
          ]
        },
        {
          "output_type": "stream",
          "name": "stderr",
          "text": [
            "2024-11-20 08:02:48,384 - INFO - JobSpy:Indeed - search page: 2 / 1\n",
            "/usr/local/lib/python3.10/dist-packages/markdownify/__init__.py:104: MarkupResemblesLocatorWarning: The input looks more like a filename than markup. You may want to open this file and pass the filehandle into Beautiful Soup.\n",
            "  soup = BeautifulSoup(html, 'html.parser')\n",
            "2024-11-20 08:02:49,764 - INFO - JobSpy:Indeed - search page: 3 / 1\n",
            "2024-11-20 08:02:51,167 - INFO - JobSpy:Indeed - search page: 4 / 1\n",
            "2024-11-20 08:02:52,250 - INFO - JobSpy:Indeed - search page: 5 / 1\n",
            "2024-11-20 08:02:52,665 - INFO - JobSpy:Indeed - search page: 6 / 1\n",
            "2024-11-20 08:02:52,807 - INFO - JobSpy:ZipRecruiter - search page: 2 / 3\n",
            "2024-11-20 08:02:53,090 - INFO - JobSpy:Indeed - found no jobs on page: 6\n",
            "2024-11-20 08:02:53,095 - INFO - JobSpy:Indeed - finished scraping\n",
            "2024-11-20 08:02:58,357 - INFO - JobSpy:ZipRecruiter - search page: 3 / 3\n",
            "2024-11-20 08:02:58,992 - INFO - JobSpy:ZipRecruiter - finished scraping\n",
            "2024-11-20 08:02:59,136 - INFO - JobSpy:Indeed - search page: 1 / 1\n",
            "2024-11-20 08:02:59,248 - INFO - JobSpy:ZipRecruiter - search page: 1 / 3\n",
            "2024-11-20 08:02:59,283 - INFO - JobSpy:Glassdoor - finished scraping\n"
          ]
        },
        {
          "output_type": "stream",
          "name": "stdout",
          "text": [
            "Fetched 50 jobs for page 13\n"
          ]
        },
        {
          "output_type": "stream",
          "name": "stderr",
          "text": [
            "2024-11-20 08:03:00,566 - INFO - JobSpy:Indeed - search page: 2 / 1\n",
            "/usr/local/lib/python3.10/dist-packages/markdownify/__init__.py:104: MarkupResemblesLocatorWarning: The input looks more like a filename than markup. You may want to open this file and pass the filehandle into Beautiful Soup.\n",
            "  soup = BeautifulSoup(html, 'html.parser')\n",
            "2024-11-20 08:03:01,890 - INFO - JobSpy:Indeed - search page: 3 / 1\n",
            "2024-11-20 08:03:03,166 - INFO - JobSpy:Indeed - search page: 4 / 1\n",
            "2024-11-20 08:03:04,276 - INFO - JobSpy:Indeed - search page: 5 / 1\n",
            "2024-11-20 08:03:04,623 - INFO - JobSpy:Indeed - search page: 6 / 1\n",
            "2024-11-20 08:03:04,948 - INFO - JobSpy:ZipRecruiter - search page: 2 / 3\n",
            "2024-11-20 08:03:05,123 - INFO - JobSpy:Indeed - found no jobs on page: 6\n",
            "2024-11-20 08:03:05,128 - INFO - JobSpy:Indeed - finished scraping\n",
            "2024-11-20 08:03:10,487 - INFO - JobSpy:ZipRecruiter - search page: 3 / 3\n",
            "2024-11-20 08:03:11,140 - INFO - JobSpy:ZipRecruiter - finished scraping\n",
            "2024-11-20 08:03:11,266 - INFO - JobSpy:Indeed - search page: 1 / 1\n",
            "2024-11-20 08:03:11,404 - INFO - JobSpy:Glassdoor - finished scraping\n",
            "2024-11-20 08:03:11,406 - INFO - JobSpy:ZipRecruiter - search page: 1 / 3\n"
          ]
        },
        {
          "output_type": "stream",
          "name": "stdout",
          "text": [
            "Fetched 50 jobs for page 14\n"
          ]
        },
        {
          "output_type": "stream",
          "name": "stderr",
          "text": [
            "2024-11-20 08:03:11,491 - ERROR - JobSpy:ZipRecruiter - 429 Response - Blocked by ZipRecruiter for too many requests\n",
            "2024-11-20 08:03:11,493 - INFO - JobSpy:ZipRecruiter - finished scraping\n",
            "2024-11-20 08:03:12,569 - INFO - JobSpy:Indeed - search page: 2 / 1\n",
            "/usr/local/lib/python3.10/dist-packages/markdownify/__init__.py:104: MarkupResemblesLocatorWarning: The input looks more like a filename than markup. You may want to open this file and pass the filehandle into Beautiful Soup.\n",
            "  soup = BeautifulSoup(html, 'html.parser')\n",
            "2024-11-20 08:03:13,765 - INFO - JobSpy:Indeed - search page: 3 / 1\n",
            "2024-11-20 08:03:15,046 - INFO - JobSpy:Indeed - search page: 4 / 1\n",
            "2024-11-20 08:03:16,324 - INFO - JobSpy:Indeed - search page: 5 / 1\n",
            "2024-11-20 08:03:16,793 - INFO - JobSpy:Indeed - search page: 6 / 1\n",
            "2024-11-20 08:03:17,341 - INFO - JobSpy:Indeed - found no jobs on page: 6\n",
            "2024-11-20 08:03:17,349 - INFO - JobSpy:Indeed - finished scraping\n",
            "2024-11-20 08:03:17,360 - INFO - JobSpy:Indeed - search page: 1 / 1\n",
            "2024-11-20 08:03:17,482 - INFO - JobSpy:ZipRecruiter - search page: 1 / 3\n",
            "2024-11-20 08:03:17,532 - INFO - JobSpy:Glassdoor - search page: 1 / 2\n",
            "2024-11-20 08:03:17,559 - ERROR - JobSpy:ZipRecruiter - 429 Response - Blocked by ZipRecruiter for too many requests\n"
          ]
        },
        {
          "output_type": "stream",
          "name": "stdout",
          "text": [
            "No jobs found on page 15\n",
            "Searching for 'Salesperson' in 'New York, NY'...\n"
          ]
        },
        {
          "output_type": "stream",
          "name": "stderr",
          "text": [
            "2024-11-20 08:03:17,561 - INFO - JobSpy:ZipRecruiter - finished scraping\n",
            "2024-11-20 08:03:18,744 - INFO - JobSpy:Glassdoor - search page: 2 / 2\n",
            "2024-11-20 08:03:19,296 - INFO - JobSpy:Indeed - finished scraping\n",
            "2024-11-20 08:03:19,822 - INFO - JobSpy:Glassdoor - finished scraping\n",
            "2024-11-20 08:03:20,129 - INFO - JobSpy:Indeed - search page: 1 / 1\n",
            "2024-11-20 08:03:20,251 - INFO - JobSpy:ZipRecruiter - search page: 1 / 3\n",
            "2024-11-20 08:03:20,271 - INFO - JobSpy:Glassdoor - search page: 2 / 2\n"
          ]
        },
        {
          "output_type": "stream",
          "name": "stdout",
          "text": [
            "Fetched 100 jobs for page 1\n"
          ]
        },
        {
          "output_type": "stream",
          "name": "stderr",
          "text": [
            "2024-11-20 08:03:20,329 - ERROR - JobSpy:ZipRecruiter - 429 Response - Blocked by ZipRecruiter for too many requests\n",
            "2024-11-20 08:03:20,332 - INFO - JobSpy:ZipRecruiter - finished scraping\n",
            "2024-11-20 08:03:21,712 - INFO - JobSpy:Glassdoor - finished scraping\n",
            "2024-11-20 08:03:21,782 - INFO - JobSpy:Indeed - finished scraping\n",
            "2024-11-20 08:03:22,028 - INFO - JobSpy:Indeed - search page: 1 / 1\n",
            "2024-11-20 08:03:22,144 - INFO - JobSpy:ZipRecruiter - search page: 1 / 3\n",
            "2024-11-20 08:03:22,199 - INFO - JobSpy:Glassdoor - finished scraping\n",
            "2024-11-20 08:03:22,216 - ERROR - JobSpy:ZipRecruiter - 429 Response - Blocked by ZipRecruiter for too many requests\n",
            "2024-11-20 08:03:22,219 - INFO - JobSpy:ZipRecruiter - finished scraping\n"
          ]
        },
        {
          "output_type": "stream",
          "name": "stdout",
          "text": [
            "Fetched 80 jobs for page 2\n"
          ]
        },
        {
          "output_type": "stream",
          "name": "stderr",
          "text": [
            "2024-11-20 08:03:23,122 - INFO - JobSpy:Indeed - search page: 2 / 1\n",
            "2024-11-20 08:03:24,195 - INFO - JobSpy:Indeed - finished scraping\n",
            "2024-11-20 08:03:24,444 - INFO - JobSpy:Indeed - search page: 1 / 1\n",
            "2024-11-20 08:03:24,561 - INFO - JobSpy:ZipRecruiter - search page: 1 / 3\n",
            "2024-11-20 08:03:24,586 - INFO - JobSpy:Glassdoor - finished scraping\n"
          ]
        },
        {
          "output_type": "stream",
          "name": "stdout",
          "text": [
            "Fetched 50 jobs for page 3\n"
          ]
        },
        {
          "output_type": "stream",
          "name": "stderr",
          "text": [
            "2024-11-20 08:03:24,644 - ERROR - JobSpy:ZipRecruiter - 429 Response - Blocked by ZipRecruiter for too many requests\n",
            "2024-11-20 08:03:24,648 - INFO - JobSpy:ZipRecruiter - finished scraping\n",
            "2024-11-20 08:03:25,516 - INFO - JobSpy:Indeed - search page: 2 / 1\n",
            "2024-11-20 08:03:26,698 - INFO - JobSpy:Indeed - finished scraping\n",
            "2024-11-20 08:03:26,848 - INFO - JobSpy:Indeed - search page: 1 / 1\n",
            "2024-11-20 08:03:26,987 - INFO - JobSpy:ZipRecruiter - search page: 1 / 3\n",
            "2024-11-20 08:03:27,014 - INFO - JobSpy:Glassdoor - finished scraping\n"
          ]
        },
        {
          "output_type": "stream",
          "name": "stdout",
          "text": [
            "Fetched 50 jobs for page 4\n"
          ]
        },
        {
          "output_type": "stream",
          "name": "stderr",
          "text": [
            "2024-11-20 08:03:27,061 - ERROR - JobSpy:ZipRecruiter - 429 Response - Blocked by ZipRecruiter for too many requests\n",
            "2024-11-20 08:03:27,063 - INFO - JobSpy:ZipRecruiter - finished scraping\n",
            "2024-11-20 08:03:28,037 - INFO - JobSpy:Indeed - search page: 2 / 1\n",
            "2024-11-20 08:03:29,378 - INFO - JobSpy:Indeed - search page: 3 / 1\n",
            "2024-11-20 08:03:30,711 - INFO - JobSpy:Indeed - finished scraping\n",
            "2024-11-20 08:03:30,944 - INFO - JobSpy:Indeed - search page: 1 / 1\n",
            "2024-11-20 08:03:31,104 - INFO - JobSpy:ZipRecruiter - search page: 1 / 3\n",
            "2024-11-20 08:03:31,113 - INFO - JobSpy:Glassdoor - finished scraping\n"
          ]
        },
        {
          "output_type": "stream",
          "name": "stdout",
          "text": [
            "Fetched 50 jobs for page 5\n"
          ]
        },
        {
          "output_type": "stream",
          "name": "stderr",
          "text": [
            "2024-11-20 08:03:31,174 - ERROR - JobSpy:ZipRecruiter - 429 Response - Blocked by ZipRecruiter for too many requests\n",
            "2024-11-20 08:03:31,176 - INFO - JobSpy:ZipRecruiter - finished scraping\n",
            "2024-11-20 08:03:32,223 - INFO - JobSpy:Indeed - search page: 2 / 1\n",
            "2024-11-20 08:03:33,385 - INFO - JobSpy:Indeed - search page: 3 / 1\n",
            "2024-11-20 08:03:34,454 - INFO - JobSpy:Indeed - search page: 4 / 1\n",
            "2024-11-20 08:03:34,963 - INFO - JobSpy:Indeed - found no jobs on page: 4\n",
            "2024-11-20 08:03:34,967 - INFO - JobSpy:Indeed - finished scraping\n",
            "2024-11-20 08:03:35,071 - INFO - JobSpy:Indeed - search page: 1 / 1\n",
            "2024-11-20 08:03:35,195 - INFO - JobSpy:ZipRecruiter - search page: 1 / 3\n",
            "2024-11-20 08:03:35,218 - INFO - JobSpy:Glassdoor - finished scraping\n"
          ]
        },
        {
          "output_type": "stream",
          "name": "stdout",
          "text": [
            "Fetched 33 jobs for page 6\n"
          ]
        },
        {
          "output_type": "stream",
          "name": "stderr",
          "text": [
            "2024-11-20 08:03:36,381 - INFO - JobSpy:Indeed - search page: 2 / 1\n",
            "2024-11-20 08:03:37,549 - INFO - JobSpy:Indeed - search page: 3 / 1\n",
            "2024-11-20 08:03:38,481 - INFO - JobSpy:Indeed - search page: 4 / 1\n",
            "2024-11-20 08:03:39,011 - INFO - JobSpy:Indeed - found no jobs on page: 4\n",
            "2024-11-20 08:03:39,015 - INFO - JobSpy:Indeed - finished scraping\n",
            "2024-11-20 08:03:41,055 - INFO - JobSpy:ZipRecruiter - search page: 2 / 3\n",
            "2024-11-20 08:03:46,718 - INFO - JobSpy:ZipRecruiter - search page: 3 / 3\n",
            "2024-11-20 08:03:47,474 - INFO - JobSpy:ZipRecruiter - finished scraping\n",
            "2024-11-20 08:03:47,620 - INFO - JobSpy:Indeed - search page: 1 / 1\n",
            "2024-11-20 08:03:47,755 - INFO - JobSpy:ZipRecruiter - search page: 1 / 3\n",
            "2024-11-20 08:03:47,801 - INFO - JobSpy:Glassdoor - finished scraping\n"
          ]
        },
        {
          "output_type": "stream",
          "name": "stdout",
          "text": [
            "Fetched 50 jobs for page 7\n"
          ]
        },
        {
          "output_type": "stream",
          "name": "stderr",
          "text": [
            "2024-11-20 08:03:48,932 - INFO - JobSpy:Indeed - search page: 2 / 1\n",
            "2024-11-20 08:03:50,083 - INFO - JobSpy:Indeed - search page: 3 / 1\n",
            "2024-11-20 08:03:51,038 - INFO - JobSpy:Indeed - search page: 4 / 1\n",
            "2024-11-20 08:03:51,564 - INFO - JobSpy:Indeed - found no jobs on page: 4\n",
            "2024-11-20 08:03:51,568 - INFO - JobSpy:Indeed - finished scraping\n",
            "2024-11-20 08:03:53,586 - INFO - JobSpy:ZipRecruiter - search page: 2 / 3\n",
            "2024-11-20 08:03:59,331 - INFO - JobSpy:ZipRecruiter - search page: 3 / 3\n",
            "2024-11-20 08:03:59,992 - INFO - JobSpy:ZipRecruiter - finished scraping\n",
            "2024-11-20 08:04:00,276 - INFO - JobSpy:Indeed - search page: 1 / 1\n",
            "2024-11-20 08:04:00,397 - INFO - JobSpy:Glassdoor - finished scraping\n",
            "2024-11-20 08:04:00,439 - INFO - JobSpy:ZipRecruiter - search page: 1 / 3\n"
          ]
        },
        {
          "output_type": "stream",
          "name": "stdout",
          "text": [
            "Fetched 50 jobs for page 8\n"
          ]
        },
        {
          "output_type": "stream",
          "name": "stderr",
          "text": [
            "2024-11-20 08:04:01,443 - INFO - JobSpy:Indeed - search page: 2 / 1\n",
            "2024-11-20 08:04:02,508 - INFO - JobSpy:Indeed - search page: 3 / 1\n",
            "2024-11-20 08:04:03,502 - INFO - JobSpy:Indeed - search page: 4 / 1\n",
            "2024-11-20 08:04:03,999 - INFO - JobSpy:Indeed - found no jobs on page: 4\n",
            "2024-11-20 08:04:04,002 - INFO - JobSpy:Indeed - finished scraping\n",
            "2024-11-20 08:04:06,273 - INFO - JobSpy:ZipRecruiter - search page: 2 / 3\n",
            "2024-11-20 08:04:12,004 - INFO - JobSpy:ZipRecruiter - search page: 3 / 3\n",
            "2024-11-20 08:04:12,658 - INFO - JobSpy:ZipRecruiter - finished scraping\n",
            "2024-11-20 08:04:12,797 - INFO - JobSpy:Indeed - search page: 1 / 1\n",
            "2024-11-20 08:04:12,921 - INFO - JobSpy:ZipRecruiter - search page: 1 / 3\n",
            "2024-11-20 08:04:12,942 - INFO - JobSpy:Glassdoor - finished scraping\n"
          ]
        },
        {
          "output_type": "stream",
          "name": "stdout",
          "text": [
            "Fetched 50 jobs for page 9\n"
          ]
        },
        {
          "output_type": "stream",
          "name": "stderr",
          "text": [
            "2024-11-20 08:04:14,105 - INFO - JobSpy:Indeed - search page: 2 / 1\n",
            "2024-11-20 08:04:15,277 - INFO - JobSpy:Indeed - search page: 3 / 1\n",
            "2024-11-20 08:04:16,241 - INFO - JobSpy:Indeed - search page: 4 / 1\n",
            "2024-11-20 08:04:16,784 - INFO - JobSpy:Indeed - found no jobs on page: 4\n",
            "2024-11-20 08:04:16,787 - INFO - JobSpy:Indeed - finished scraping\n",
            "2024-11-20 08:04:18,804 - INFO - JobSpy:ZipRecruiter - search page: 2 / 3\n",
            "2024-11-20 08:04:24,553 - INFO - JobSpy:ZipRecruiter - search page: 3 / 3\n",
            "2024-11-20 08:04:25,195 - INFO - JobSpy:ZipRecruiter - finished scraping\n",
            "2024-11-20 08:04:25,344 - INFO - JobSpy:Indeed - search page: 1 / 1\n",
            "2024-11-20 08:04:25,466 - INFO - JobSpy:ZipRecruiter - search page: 1 / 3\n",
            "2024-11-20 08:04:25,489 - INFO - JobSpy:Glassdoor - finished scraping\n"
          ]
        },
        {
          "output_type": "stream",
          "name": "stdout",
          "text": [
            "Fetched 50 jobs for page 10\n"
          ]
        },
        {
          "output_type": "stream",
          "name": "stderr",
          "text": [
            "2024-11-20 08:04:26,564 - INFO - JobSpy:Indeed - search page: 2 / 1\n",
            "2024-11-20 08:04:27,692 - INFO - JobSpy:Indeed - search page: 3 / 1\n",
            "2024-11-20 08:04:28,556 - INFO - JobSpy:Indeed - search page: 4 / 1\n",
            "2024-11-20 08:04:28,925 - INFO - JobSpy:Indeed - found no jobs on page: 4\n",
            "2024-11-20 08:04:28,928 - INFO - JobSpy:Indeed - finished scraping\n",
            "2024-11-20 08:04:31,310 - INFO - JobSpy:ZipRecruiter - search page: 2 / 3\n",
            "2024-11-20 08:04:37,088 - INFO - JobSpy:ZipRecruiter - search page: 3 / 3\n",
            "2024-11-20 08:04:37,826 - INFO - JobSpy:ZipRecruiter - finished scraping\n",
            "2024-11-20 08:04:37,961 - INFO - JobSpy:Indeed - search page: 1 / 1\n",
            "2024-11-20 08:04:38,076 - INFO - JobSpy:ZipRecruiter - search page: 1 / 3\n",
            "2024-11-20 08:04:38,106 - INFO - JobSpy:Glassdoor - finished scraping\n"
          ]
        },
        {
          "output_type": "stream",
          "name": "stdout",
          "text": [
            "Fetched 50 jobs for page 11\n"
          ]
        },
        {
          "output_type": "stream",
          "name": "stderr",
          "text": [
            "2024-11-20 08:04:39,262 - INFO - JobSpy:Indeed - search page: 2 / 1\n",
            "2024-11-20 08:04:40,435 - INFO - JobSpy:Indeed - search page: 3 / 1\n",
            "2024-11-20 08:04:41,390 - INFO - JobSpy:Indeed - search page: 4 / 1\n",
            "2024-11-20 08:04:41,929 - INFO - JobSpy:Indeed - found no jobs on page: 4\n",
            "2024-11-20 08:04:41,932 - INFO - JobSpy:Indeed - finished scraping\n",
            "2024-11-20 08:04:43,892 - INFO - JobSpy:ZipRecruiter - search page: 2 / 3\n",
            "2024-11-20 08:04:49,578 - INFO - JobSpy:ZipRecruiter - search page: 3 / 3\n",
            "2024-11-20 08:04:50,299 - INFO - JobSpy:ZipRecruiter - finished scraping\n",
            "2024-11-20 08:04:50,443 - INFO - JobSpy:Indeed - search page: 1 / 1\n",
            "2024-11-20 08:04:50,557 - INFO - JobSpy:ZipRecruiter - search page: 1 / 3\n",
            "2024-11-20 08:04:50,596 - INFO - JobSpy:Glassdoor - finished scraping\n"
          ]
        },
        {
          "output_type": "stream",
          "name": "stdout",
          "text": [
            "Fetched 50 jobs for page 12\n"
          ]
        },
        {
          "output_type": "stream",
          "name": "stderr",
          "text": [
            "2024-11-20 08:04:51,758 - INFO - JobSpy:Indeed - search page: 2 / 1\n",
            "2024-11-20 08:04:52,888 - INFO - JobSpy:Indeed - search page: 3 / 1\n",
            "2024-11-20 08:04:53,909 - INFO - JobSpy:Indeed - search page: 4 / 1\n",
            "2024-11-20 08:04:54,443 - INFO - JobSpy:Indeed - found no jobs on page: 4\n",
            "2024-11-20 08:04:54,446 - INFO - JobSpy:Indeed - finished scraping\n",
            "2024-11-20 08:04:56,360 - INFO - JobSpy:ZipRecruiter - search page: 2 / 3\n",
            "2024-11-20 08:05:02,043 - INFO - JobSpy:ZipRecruiter - search page: 3 / 3\n",
            "2024-11-20 08:05:02,672 - INFO - JobSpy:ZipRecruiter - finished scraping\n",
            "2024-11-20 08:05:02,822 - INFO - JobSpy:Indeed - search page: 1 / 1\n",
            "2024-11-20 08:05:02,939 - INFO - JobSpy:ZipRecruiter - search page: 1 / 3\n",
            "2024-11-20 08:05:02,976 - INFO - JobSpy:Glassdoor - finished scraping\n"
          ]
        },
        {
          "output_type": "stream",
          "name": "stdout",
          "text": [
            "Fetched 50 jobs for page 13\n"
          ]
        },
        {
          "output_type": "stream",
          "name": "stderr",
          "text": [
            "2024-11-20 08:05:04,226 - INFO - JobSpy:Indeed - search page: 2 / 1\n",
            "2024-11-20 08:05:05,397 - INFO - JobSpy:Indeed - search page: 3 / 1\n",
            "2024-11-20 08:05:06,758 - INFO - JobSpy:Indeed - search page: 4 / 1\n",
            "2024-11-20 08:05:07,301 - INFO - JobSpy:Indeed - found no jobs on page: 4\n",
            "2024-11-20 08:05:07,307 - INFO - JobSpy:Indeed - finished scraping\n",
            "2024-11-20 08:05:08,792 - INFO - JobSpy:ZipRecruiter - search page: 2 / 3\n",
            "2024-11-20 08:05:14,510 - INFO - JobSpy:ZipRecruiter - search page: 3 / 3\n",
            "2024-11-20 08:05:15,145 - INFO - JobSpy:ZipRecruiter - finished scraping\n",
            "2024-11-20 08:05:15,290 - INFO - JobSpy:Indeed - search page: 1 / 1\n",
            "2024-11-20 08:05:15,424 - INFO - JobSpy:ZipRecruiter - search page: 1 / 3\n",
            "2024-11-20 08:05:15,437 - INFO - JobSpy:Glassdoor - finished scraping\n"
          ]
        },
        {
          "output_type": "stream",
          "name": "stdout",
          "text": [
            "Fetched 50 jobs for page 14\n"
          ]
        },
        {
          "output_type": "stream",
          "name": "stderr",
          "text": [
            "2024-11-20 08:05:15,512 - ERROR - JobSpy:ZipRecruiter - 429 Response - Blocked by ZipRecruiter for too many requests\n",
            "2024-11-20 08:05:15,514 - INFO - JobSpy:ZipRecruiter - finished scraping\n",
            "2024-11-20 08:05:16,337 - INFO - JobSpy:Indeed - search page: 2 / 1\n",
            "2024-11-20 08:05:17,446 - INFO - JobSpy:Indeed - search page: 3 / 1\n",
            "2024-11-20 08:05:18,666 - INFO - JobSpy:Indeed - search page: 4 / 1\n",
            "2024-11-20 08:05:19,222 - INFO - JobSpy:Indeed - found no jobs on page: 4\n",
            "2024-11-20 08:05:19,226 - INFO - JobSpy:Indeed - finished scraping\n",
            "2024-11-20 08:05:19,238 - INFO - JobSpy:Indeed - search page: 1 / 1\n",
            "2024-11-20 08:05:19,413 - INFO - JobSpy:Glassdoor - search page: 1 / 2\n",
            "2024-11-20 08:05:19,425 - INFO - JobSpy:ZipRecruiter - search page: 1 / 3\n"
          ]
        },
        {
          "output_type": "stream",
          "name": "stdout",
          "text": [
            "No jobs found on page 15\n",
            "Searching for 'Salesperson' in 'San Francisco, CA'...\n"
          ]
        },
        {
          "output_type": "stream",
          "name": "stderr",
          "text": [
            "2024-11-20 08:05:19,498 - ERROR - JobSpy:ZipRecruiter - 429 Response - Blocked by ZipRecruiter for too many requests\n",
            "2024-11-20 08:05:19,500 - INFO - JobSpy:ZipRecruiter - finished scraping\n",
            "2024-11-20 08:05:20,434 - INFO - JobSpy:Glassdoor - search page: 2 / 2\n",
            "2024-11-20 08:05:20,781 - INFO - JobSpy:Indeed - finished scraping\n",
            "2024-11-20 08:05:20,786 - INFO - JobSpy:Glassdoor - finished scraping\n",
            "2024-11-20 08:05:21,108 - INFO - JobSpy:Indeed - search page: 1 / 1\n",
            "2024-11-20 08:05:21,223 - INFO - JobSpy:ZipRecruiter - search page: 1 / 3\n",
            "2024-11-20 08:05:21,245 - INFO - JobSpy:Glassdoor - search page: 2 / 2\n",
            "2024-11-20 08:05:21,293 - ERROR - JobSpy:ZipRecruiter - 429 Response - Blocked by ZipRecruiter for too many requests\n",
            "2024-11-20 08:05:21,295 - INFO - JobSpy:ZipRecruiter - finished scraping\n"
          ]
        },
        {
          "output_type": "stream",
          "name": "stdout",
          "text": [
            "Fetched 68 jobs for page 1\n"
          ]
        },
        {
          "output_type": "stream",
          "name": "stderr",
          "text": [
            "2024-11-20 08:05:22,021 - INFO - JobSpy:Glassdoor - finished scraping\n",
            "2024-11-20 08:05:22,336 - INFO - JobSpy:Indeed - search page: 2 / 1\n",
            "2024-11-20 08:05:22,792 - INFO - JobSpy:Indeed - found no jobs on page: 2\n",
            "2024-11-20 08:05:22,794 - INFO - JobSpy:Indeed - finished scraping\n",
            "2024-11-20 08:05:22,941 - INFO - JobSpy:Indeed - search page: 1 / 1\n",
            "2024-11-20 08:05:23,054 - INFO - JobSpy:ZipRecruiter - search page: 1 / 3\n",
            "2024-11-20 08:05:23,084 - INFO - JobSpy:Glassdoor - finished scraping\n",
            "2024-11-20 08:05:23,127 - ERROR - JobSpy:ZipRecruiter - 429 Response - Blocked by ZipRecruiter for too many requests\n",
            "2024-11-20 08:05:23,129 - INFO - JobSpy:ZipRecruiter - finished scraping\n"
          ]
        },
        {
          "output_type": "stream",
          "name": "stdout",
          "text": [
            "Fetched 44 jobs for page 2\n"
          ]
        },
        {
          "output_type": "stream",
          "name": "stderr",
          "text": [
            "2024-11-20 08:05:23,851 - INFO - JobSpy:Indeed - search page: 2 / 1\n",
            "2024-11-20 08:05:24,296 - INFO - JobSpy:Indeed - found no jobs on page: 2\n",
            "2024-11-20 08:05:24,298 - INFO - JobSpy:Indeed - finished scraping\n",
            "2024-11-20 08:05:24,307 - INFO - JobSpy:Indeed - search page: 1 / 1\n",
            "2024-11-20 08:05:24,477 - INFO - JobSpy:Glassdoor - search page: 1 / 2\n",
            "2024-11-20 08:05:24,502 - INFO - JobSpy:ZipRecruiter - search page: 1 / 3\n"
          ]
        },
        {
          "output_type": "stream",
          "name": "stdout",
          "text": [
            "No jobs found on page 3\n",
            "Searching for 'Salesperson' in 'Austin, TX'...\n"
          ]
        },
        {
          "output_type": "stream",
          "name": "stderr",
          "text": [
            "2024-11-20 08:05:24,581 - ERROR - JobSpy:ZipRecruiter - 429 Response - Blocked by ZipRecruiter for too many requests\n",
            "2024-11-20 08:05:24,583 - INFO - JobSpy:ZipRecruiter - finished scraping\n",
            "2024-11-20 08:05:25,490 - INFO - JobSpy:Indeed - finished scraping\n",
            "2024-11-20 08:05:25,504 - INFO - JobSpy:Glassdoor - search page: 2 / 2\n",
            "2024-11-20 08:05:25,857 - INFO - JobSpy:Glassdoor - finished scraping\n",
            "2024-11-20 08:05:26,066 - INFO - JobSpy:Indeed - search page: 1 / 1\n",
            "2024-11-20 08:05:26,190 - INFO - JobSpy:ZipRecruiter - search page: 1 / 3\n",
            "2024-11-20 08:05:26,211 - INFO - JobSpy:Glassdoor - search page: 2 / 2\n",
            "2024-11-20 08:05:26,259 - ERROR - JobSpy:ZipRecruiter - 429 Response - Blocked by ZipRecruiter for too many requests\n",
            "2024-11-20 08:05:26,261 - INFO - JobSpy:ZipRecruiter - finished scraping\n"
          ]
        },
        {
          "output_type": "stream",
          "name": "stdout",
          "text": [
            "Fetched 71 jobs for page 1\n"
          ]
        },
        {
          "output_type": "stream",
          "name": "stderr",
          "text": [
            "2024-11-20 08:05:27,132 - INFO - JobSpy:Indeed - search page: 2 / 1\n",
            "2024-11-20 08:05:27,439 - INFO - JobSpy:Glassdoor - finished scraping\n",
            "2024-11-20 08:05:27,501 - INFO - JobSpy:Indeed - found no jobs on page: 2\n",
            "2024-11-20 08:05:27,503 - INFO - JobSpy:Indeed - finished scraping\n",
            "2024-11-20 08:05:27,622 - INFO - JobSpy:Indeed - search page: 1 / 1\n",
            "2024-11-20 08:05:27,727 - INFO - JobSpy:ZipRecruiter - search page: 1 / 3\n",
            "2024-11-20 08:05:27,764 - INFO - JobSpy:Glassdoor - finished scraping\n",
            "2024-11-20 08:05:27,797 - ERROR - JobSpy:ZipRecruiter - 429 Response - Blocked by ZipRecruiter for too many requests\n",
            "2024-11-20 08:05:27,799 - INFO - JobSpy:ZipRecruiter - finished scraping\n"
          ]
        },
        {
          "output_type": "stream",
          "name": "stdout",
          "text": [
            "Fetched 38 jobs for page 2\n"
          ]
        },
        {
          "output_type": "stream",
          "name": "stderr",
          "text": [
            "2024-11-20 08:05:28,489 - INFO - JobSpy:Indeed - search page: 2 / 1\n",
            "2024-11-20 08:05:28,835 - INFO - JobSpy:Indeed - found no jobs on page: 2\n",
            "2024-11-20 08:05:28,836 - INFO - JobSpy:Indeed - finished scraping\n",
            "2024-11-20 08:05:28,847 - INFO - JobSpy:Indeed - search page: 1 / 1\n",
            "2024-11-20 08:05:28,953 - INFO - JobSpy:ZipRecruiter - search page: 1 / 3\n",
            "2024-11-20 08:05:28,984 - INFO - JobSpy:Glassdoor - search page: 1 / 2\n",
            "2024-11-20 08:05:29,018 - ERROR - JobSpy:ZipRecruiter - 429 Response - Blocked by ZipRecruiter for too many requests\n",
            "2024-11-20 08:05:29,020 - INFO - JobSpy:ZipRecruiter - finished scraping\n"
          ]
        },
        {
          "output_type": "stream",
          "name": "stdout",
          "text": [
            "No jobs found on page 3\n",
            "Searching for 'Retail Salesperson' in 'New York, NY'...\n"
          ]
        },
        {
          "output_type": "stream",
          "name": "stderr",
          "text": [
            "2024-11-20 08:05:29,628 - INFO - JobSpy:Glassdoor - search page: 2 / 2\n",
            "2024-11-20 08:05:30,052 - INFO - JobSpy:Indeed - finished scraping\n",
            "2024-11-20 08:05:30,060 - INFO - JobSpy:Glassdoor - finished scraping\n",
            "2024-11-20 08:05:30,250 - INFO - JobSpy:Indeed - search page: 1 / 1\n",
            "2024-11-20 08:05:30,369 - INFO - JobSpy:ZipRecruiter - search page: 1 / 3\n",
            "2024-11-20 08:05:30,394 - INFO - JobSpy:Glassdoor - search page: 2 / 2\n",
            "2024-11-20 08:05:30,438 - ERROR - JobSpy:ZipRecruiter - 429 Response - Blocked by ZipRecruiter for too many requests\n",
            "2024-11-20 08:05:30,441 - INFO - JobSpy:ZipRecruiter - finished scraping\n"
          ]
        },
        {
          "output_type": "stream",
          "name": "stdout",
          "text": [
            "Fetched 59 jobs for page 1\n"
          ]
        },
        {
          "output_type": "stream",
          "name": "stderr",
          "text": [
            "2024-11-20 08:05:30,971 - INFO - JobSpy:Glassdoor - finished scraping\n",
            "2024-11-20 08:05:31,816 - INFO - JobSpy:Indeed - search page: 2 / 1\n",
            "2024-11-20 08:05:32,300 - INFO - JobSpy:Indeed - found no jobs on page: 2\n",
            "2024-11-20 08:05:32,307 - INFO - JobSpy:Indeed - finished scraping\n",
            "2024-11-20 08:05:32,656 - INFO - JobSpy:Indeed - search page: 1 / 1\n",
            "2024-11-20 08:05:32,764 - INFO - JobSpy:ZipRecruiter - search page: 1 / 3\n",
            "2024-11-20 08:05:32,808 - INFO - JobSpy:Glassdoor - finished scraping\n",
            "2024-11-20 08:05:32,838 - ERROR - JobSpy:ZipRecruiter - 429 Response - Blocked by ZipRecruiter for too many requests\n",
            "2024-11-20 08:05:32,840 - INFO - JobSpy:ZipRecruiter - finished scraping\n"
          ]
        },
        {
          "output_type": "stream",
          "name": "stdout",
          "text": [
            "Fetched 42 jobs for page 2\n"
          ]
        },
        {
          "output_type": "stream",
          "name": "stderr",
          "text": [
            "2024-11-20 08:05:33,795 - INFO - JobSpy:Indeed - search page: 2 / 1\n",
            "2024-11-20 08:05:34,238 - INFO - JobSpy:Indeed - found no jobs on page: 2\n",
            "2024-11-20 08:05:34,240 - INFO - JobSpy:Indeed - finished scraping\n",
            "2024-11-20 08:05:34,249 - INFO - JobSpy:Indeed - search page: 1 / 1\n",
            "2024-11-20 08:05:34,362 - INFO - JobSpy:ZipRecruiter - search page: 1 / 3\n",
            "2024-11-20 08:05:34,393 - INFO - JobSpy:Glassdoor - search page: 1 / 2\n",
            "2024-11-20 08:05:34,434 - ERROR - JobSpy:ZipRecruiter - 429 Response - Blocked by ZipRecruiter for too many requests\n",
            "2024-11-20 08:05:34,437 - INFO - JobSpy:ZipRecruiter - finished scraping\n"
          ]
        },
        {
          "output_type": "stream",
          "name": "stdout",
          "text": [
            "No jobs found on page 3\n",
            "Searching for 'Retail Salesperson' in 'San Francisco, CA'...\n"
          ]
        },
        {
          "output_type": "stream",
          "name": "stderr",
          "text": [
            "2024-11-20 08:05:34,879 - INFO - JobSpy:Indeed - search page: 2 / 1\n",
            "2024-11-20 08:05:34,955 - INFO - JobSpy:Glassdoor - search page: 2 / 2\n",
            "2024-11-20 08:05:35,175 - INFO - JobSpy:Indeed - found no jobs on page: 2\n",
            "2024-11-20 08:05:35,176 - INFO - JobSpy:Indeed - finished scraping\n",
            "2024-11-20 08:05:35,243 - INFO - JobSpy:Glassdoor - finished scraping\n",
            "2024-11-20 08:05:35,359 - INFO - JobSpy:Indeed - search page: 1 / 1\n",
            "2024-11-20 08:05:35,472 - INFO - JobSpy:ZipRecruiter - search page: 1 / 3\n",
            "2024-11-20 08:05:35,493 - INFO - JobSpy:Glassdoor - search page: 2 / 2\n"
          ]
        },
        {
          "output_type": "stream",
          "name": "stdout",
          "text": [
            "Fetched 38 jobs for page 1\n"
          ]
        },
        {
          "output_type": "stream",
          "name": "stderr",
          "text": [
            "2024-11-20 08:05:35,916 - INFO - JobSpy:Indeed - search page: 2 / 1\n",
            "2024-11-20 08:05:36,132 - INFO - JobSpy:Indeed - found no jobs on page: 2\n",
            "2024-11-20 08:05:36,134 - INFO - JobSpy:Indeed - finished scraping\n",
            "2024-11-20 08:05:36,180 - INFO - JobSpy:Glassdoor - finished scraping\n",
            "2024-11-20 08:05:41,099 - INFO - JobSpy:ZipRecruiter - search page: 2 / 3\n",
            "2024-11-20 08:05:46,665 - INFO - JobSpy:ZipRecruiter - search page: 3 / 3\n",
            "2024-11-20 08:05:47,360 - INFO - JobSpy:ZipRecruiter - finished scraping\n",
            "2024-11-20 08:05:47,530 - INFO - JobSpy:Indeed - search page: 1 / 1\n",
            "2024-11-20 08:05:47,678 - INFO - JobSpy:Glassdoor - finished scraping\n"
          ]
        },
        {
          "output_type": "stream",
          "name": "stdout",
          "text": [
            "Fetched 54 jobs for page 2\n"
          ]
        },
        {
          "output_type": "stream",
          "name": "stderr",
          "text": [
            "2024-11-20 08:05:47,728 - INFO - JobSpy:ZipRecruiter - search page: 1 / 3\n",
            "2024-11-20 08:05:48,126 - INFO - JobSpy:Indeed - search page: 2 / 1\n",
            "2024-11-20 08:05:48,398 - INFO - JobSpy:Indeed - found no jobs on page: 2\n",
            "2024-11-20 08:05:48,400 - INFO - JobSpy:Indeed - finished scraping\n",
            "2024-11-20 08:05:53,294 - INFO - JobSpy:ZipRecruiter - search page: 2 / 3\n",
            "2024-11-20 08:05:58,878 - INFO - JobSpy:ZipRecruiter - search page: 3 / 3\n",
            "2024-11-20 08:05:59,505 - INFO - JobSpy:ZipRecruiter - finished scraping\n",
            "2024-11-20 08:05:59,647 - INFO - JobSpy:Indeed - search page: 1 / 1\n",
            "2024-11-20 08:05:59,760 - INFO - JobSpy:ZipRecruiter - search page: 1 / 3\n",
            "2024-11-20 08:05:59,811 - INFO - JobSpy:Glassdoor - finished scraping\n"
          ]
        },
        {
          "output_type": "stream",
          "name": "stdout",
          "text": [
            "Fetched 50 jobs for page 3\n"
          ]
        },
        {
          "output_type": "stream",
          "name": "stderr",
          "text": [
            "2024-11-20 08:06:00,279 - INFO - JobSpy:Indeed - search page: 2 / 1\n",
            "2024-11-20 08:06:00,563 - INFO - JobSpy:Indeed - found no jobs on page: 2\n",
            "2024-11-20 08:06:00,564 - INFO - JobSpy:Indeed - finished scraping\n",
            "2024-11-20 08:06:05,432 - INFO - JobSpy:ZipRecruiter - search page: 2 / 3\n",
            "2024-11-20 08:06:11,020 - INFO - JobSpy:ZipRecruiter - search page: 3 / 3\n",
            "2024-11-20 08:06:11,617 - INFO - JobSpy:ZipRecruiter - finished scraping\n",
            "2024-11-20 08:06:11,756 - INFO - JobSpy:Indeed - search page: 1 / 1\n",
            "2024-11-20 08:06:11,872 - INFO - JobSpy:ZipRecruiter - search page: 1 / 3\n",
            "2024-11-20 08:06:11,923 - INFO - JobSpy:Glassdoor - finished scraping\n"
          ]
        },
        {
          "output_type": "stream",
          "name": "stdout",
          "text": [
            "Fetched 50 jobs for page 4\n"
          ]
        },
        {
          "output_type": "stream",
          "name": "stderr",
          "text": [
            "2024-11-20 08:06:12,321 - INFO - JobSpy:Indeed - search page: 2 / 1\n",
            "2024-11-20 08:06:12,566 - INFO - JobSpy:Indeed - found no jobs on page: 2\n",
            "2024-11-20 08:06:12,567 - INFO - JobSpy:Indeed - finished scraping\n",
            "2024-11-20 08:06:17,444 - INFO - JobSpy:ZipRecruiter - search page: 2 / 3\n",
            "2024-11-20 08:06:23,013 - INFO - JobSpy:ZipRecruiter - search page: 3 / 3\n",
            "2024-11-20 08:06:23,575 - INFO - JobSpy:ZipRecruiter - finished scraping\n",
            "2024-11-20 08:06:23,721 - INFO - JobSpy:Indeed - search page: 1 / 1\n",
            "2024-11-20 08:06:23,851 - INFO - JobSpy:ZipRecruiter - search page: 1 / 3\n",
            "2024-11-20 08:06:23,881 - INFO - JobSpy:Glassdoor - finished scraping\n"
          ]
        },
        {
          "output_type": "stream",
          "name": "stdout",
          "text": [
            "Fetched 50 jobs for page 5\n"
          ]
        },
        {
          "output_type": "stream",
          "name": "stderr",
          "text": [
            "2024-11-20 08:06:24,420 - INFO - JobSpy:Indeed - search page: 2 / 1\n",
            "2024-11-20 08:06:24,689 - INFO - JobSpy:Indeed - found no jobs on page: 2\n",
            "2024-11-20 08:06:24,691 - INFO - JobSpy:Indeed - finished scraping\n",
            "2024-11-20 08:06:29,504 - INFO - JobSpy:ZipRecruiter - search page: 2 / 3\n",
            "2024-11-20 08:06:35,052 - INFO - JobSpy:ZipRecruiter - search page: 3 / 3\n",
            "2024-11-20 08:06:35,591 - INFO - JobSpy:ZipRecruiter - finished scraping\n",
            "2024-11-20 08:06:35,726 - INFO - JobSpy:Indeed - search page: 1 / 1\n",
            "2024-11-20 08:06:35,872 - INFO - JobSpy:Glassdoor - finished scraping\n",
            "2024-11-20 08:06:35,890 - INFO - JobSpy:ZipRecruiter - search page: 1 / 3\n"
          ]
        },
        {
          "output_type": "stream",
          "name": "stdout",
          "text": [
            "Fetched 50 jobs for page 6\n"
          ]
        },
        {
          "output_type": "stream",
          "name": "stderr",
          "text": [
            "2024-11-20 08:06:36,308 - INFO - JobSpy:Indeed - search page: 2 / 1\n",
            "2024-11-20 08:06:36,600 - INFO - JobSpy:Indeed - found no jobs on page: 2\n",
            "2024-11-20 08:06:36,601 - INFO - JobSpy:Indeed - finished scraping\n",
            "2024-11-20 08:06:41,455 - INFO - JobSpy:ZipRecruiter - search page: 2 / 3\n",
            "2024-11-20 08:06:47,012 - INFO - JobSpy:ZipRecruiter - search page: 3 / 3\n",
            "2024-11-20 08:06:47,541 - INFO - JobSpy:ZipRecruiter - finished scraping\n",
            "2024-11-20 08:06:47,683 - INFO - JobSpy:Indeed - search page: 1 / 1\n",
            "2024-11-20 08:06:47,797 - INFO - JobSpy:ZipRecruiter - search page: 1 / 3\n",
            "2024-11-20 08:06:47,830 - INFO - JobSpy:Glassdoor - finished scraping\n"
          ]
        },
        {
          "output_type": "stream",
          "name": "stdout",
          "text": [
            "Fetched 50 jobs for page 7\n"
          ]
        },
        {
          "output_type": "stream",
          "name": "stderr",
          "text": [
            "2024-11-20 08:06:48,241 - INFO - JobSpy:Indeed - search page: 2 / 1\n",
            "2024-11-20 08:06:48,486 - INFO - JobSpy:Indeed - found no jobs on page: 2\n",
            "2024-11-20 08:06:48,488 - INFO - JobSpy:Indeed - finished scraping\n",
            "2024-11-20 08:06:53,392 - INFO - JobSpy:ZipRecruiter - search page: 2 / 3\n",
            "2024-11-20 08:06:58,970 - INFO - JobSpy:ZipRecruiter - search page: 3 / 3\n",
            "2024-11-20 08:06:59,527 - INFO - JobSpy:ZipRecruiter - finished scraping\n",
            "2024-11-20 08:06:59,651 - INFO - JobSpy:Indeed - search page: 1 / 1\n",
            "2024-11-20 08:06:59,778 - INFO - JobSpy:ZipRecruiter - search page: 1 / 3\n",
            "2024-11-20 08:06:59,806 - INFO - JobSpy:Glassdoor - finished scraping\n"
          ]
        },
        {
          "output_type": "stream",
          "name": "stdout",
          "text": [
            "Fetched 50 jobs for page 8\n"
          ]
        },
        {
          "output_type": "stream",
          "name": "stderr",
          "text": [
            "2024-11-20 08:07:00,201 - INFO - JobSpy:Indeed - search page: 2 / 1\n",
            "2024-11-20 08:07:00,473 - INFO - JobSpy:Indeed - found no jobs on page: 2\n",
            "2024-11-20 08:07:00,474 - INFO - JobSpy:Indeed - finished scraping\n",
            "2024-11-20 08:07:05,337 - INFO - JobSpy:ZipRecruiter - search page: 2 / 3\n",
            "2024-11-20 08:07:11,012 - INFO - JobSpy:ZipRecruiter - search page: 3 / 3\n",
            "2024-11-20 08:07:11,736 - INFO - JobSpy:ZipRecruiter - finished scraping\n",
            "2024-11-20 08:07:11,877 - INFO - JobSpy:Indeed - search page: 1 / 1\n",
            "2024-11-20 08:07:11,997 - INFO - JobSpy:ZipRecruiter - search page: 1 / 3\n",
            "2024-11-20 08:07:12,026 - INFO - JobSpy:Glassdoor - finished scraping\n"
          ]
        },
        {
          "output_type": "stream",
          "name": "stdout",
          "text": [
            "Fetched 50 jobs for page 9\n"
          ]
        },
        {
          "output_type": "stream",
          "name": "stderr",
          "text": [
            "2024-11-20 08:07:12,080 - ERROR - JobSpy:ZipRecruiter - 429 Response - Blocked by ZipRecruiter for too many requests\n",
            "2024-11-20 08:07:12,084 - INFO - JobSpy:ZipRecruiter - finished scraping\n",
            "2024-11-20 08:07:12,408 - INFO - JobSpy:Indeed - search page: 2 / 1\n",
            "2024-11-20 08:07:12,656 - INFO - JobSpy:Indeed - found no jobs on page: 2\n",
            "2024-11-20 08:07:12,658 - INFO - JobSpy:Indeed - finished scraping\n",
            "2024-11-20 08:07:12,668 - INFO - JobSpy:Indeed - search page: 1 / 1\n",
            "2024-11-20 08:07:12,811 - INFO - JobSpy:Glassdoor - search page: 1 / 2\n",
            "2024-11-20 08:07:12,854 - INFO - JobSpy:ZipRecruiter - search page: 1 / 3\n"
          ]
        },
        {
          "output_type": "stream",
          "name": "stdout",
          "text": [
            "No jobs found on page 10\n",
            "Searching for 'Retail Salesperson' in 'Austin, TX'...\n"
          ]
        },
        {
          "output_type": "stream",
          "name": "stderr",
          "text": [
            "2024-11-20 08:07:12,928 - ERROR - JobSpy:ZipRecruiter - 429 Response - Blocked by ZipRecruiter for too many requests\n",
            "2024-11-20 08:07:12,929 - INFO - JobSpy:ZipRecruiter - finished scraping\n",
            "2024-11-20 08:07:13,232 - INFO - JobSpy:Indeed - search page: 2 / 1\n",
            "2024-11-20 08:07:13,377 - INFO - JobSpy:Glassdoor - search page: 2 / 2\n",
            "2024-11-20 08:07:13,448 - INFO - JobSpy:Indeed - found no jobs on page: 2\n",
            "2024-11-20 08:07:13,449 - INFO - JobSpy:Indeed - finished scraping\n",
            "2024-11-20 08:07:13,604 - INFO - JobSpy:Glassdoor - finished scraping\n",
            "2024-11-20 08:07:13,735 - INFO - JobSpy:Indeed - search page: 1 / 1\n",
            "2024-11-20 08:07:13,849 - INFO - JobSpy:ZipRecruiter - search page: 1 / 3\n",
            "2024-11-20 08:07:13,887 - INFO - JobSpy:Glassdoor - search page: 2 / 2\n",
            "2024-11-20 08:07:13,918 - ERROR - JobSpy:ZipRecruiter - 429 Response - Blocked by ZipRecruiter for too many requests\n",
            "2024-11-20 08:07:13,920 - INFO - JobSpy:ZipRecruiter - finished scraping\n"
          ]
        },
        {
          "output_type": "stream",
          "name": "stdout",
          "text": [
            "Fetched 36 jobs for page 1\n"
          ]
        },
        {
          "output_type": "stream",
          "name": "stderr",
          "text": [
            "2024-11-20 08:07:14,246 - INFO - JobSpy:Indeed - search page: 2 / 1\n",
            "2024-11-20 08:07:14,452 - INFO - JobSpy:Glassdoor - finished scraping\n",
            "2024-11-20 08:07:14,482 - INFO - JobSpy:Indeed - found no jobs on page: 2\n",
            "2024-11-20 08:07:14,485 - INFO - JobSpy:Indeed - finished scraping\n",
            "2024-11-20 08:07:14,515 - INFO - JobSpy:Indeed - search page: 1 / 1\n",
            "2024-11-20 08:07:14,665 - INFO - JobSpy:Glassdoor - finished scraping\n"
          ]
        },
        {
          "output_type": "stream",
          "name": "stdout",
          "text": [
            "Fetched 4 jobs for page 2\n"
          ]
        },
        {
          "output_type": "stream",
          "name": "stderr",
          "text": [
            "2024-11-20 08:07:14,716 - INFO - JobSpy:ZipRecruiter - search page: 1 / 3\n",
            "2024-11-20 08:07:14,793 - ERROR - JobSpy:ZipRecruiter - 429 Response - Blocked by ZipRecruiter for too many requests\n",
            "2024-11-20 08:07:14,805 - INFO - JobSpy:ZipRecruiter - finished scraping\n",
            "2024-11-20 08:07:15,014 - INFO - JobSpy:Indeed - search page: 2 / 1\n",
            "2024-11-20 08:07:15,221 - INFO - JobSpy:Indeed - found no jobs on page: 2\n",
            "2024-11-20 08:07:15,223 - INFO - JobSpy:Indeed - finished scraping\n"
          ]
        },
        {
          "output_type": "stream",
          "name": "stdout",
          "text": [
            "No jobs found on page 3\n",
            "Total jobs fetched: 3348\n",
            "Results saved to linkedin_combined_jobs.csv\n"
          ]
        }
      ]
    },
    {
      "cell_type": "code",
      "source": [
        "import pandas as pd\n",
        "\n",
        "df = pd.read_csv('/content/jobs.csv')"
      ],
      "metadata": {
        "id": "dOSVHpNe0M9z"
      },
      "execution_count": null,
      "outputs": []
    },
    {
      "cell_type": "code",
      "source": [
        "print(df.head())"
      ],
      "metadata": {
        "colab": {
          "base_uri": "https://localhost:8080/"
        },
        "id": "ffxOgtGk0ff1",
        "outputId": "61ed787c-27b5-423e-8e48-a31ade44df1a"
      },
      "execution_count": null,
      "outputs": [
        {
          "output_type": "stream",
          "name": "stdout",
          "text": [
            "                0\n",
            "0              id\n",
            "1            site\n",
            "2         job_url\n",
            "3  job_url_direct\n",
            "4           title\n"
          ]
        }
      ]
    },
    {
      "cell_type": "code",
      "source": [
        "print(df.columns)"
      ],
      "metadata": {
        "colab": {
          "base_uri": "https://localhost:8080/"
        },
        "id": "0UgOShK70fcP",
        "outputId": "cce73ca2-0438-49df-df56-e823ae8bf6c3"
      },
      "execution_count": null,
      "outputs": [
        {
          "output_type": "stream",
          "name": "stdout",
          "text": [
            "Index(['id', 'site', 'job_url', 'job_url_direct', 'title', 'company',\n",
            "       'location', 'date_posted', 'job_type', 'salary_source', 'interval',\n",
            "       'min_amount', 'max_amount', 'currency', 'is_remote', 'job_level',\n",
            "       'job_function', 'listing_type', 'emails', 'description',\n",
            "       'company_industry', 'company_url', 'company_logo', 'company_url_direct',\n",
            "       'company_addresses', 'company_num_employees', 'company_revenue',\n",
            "       'company_description'],\n",
            "      dtype='object')\n"
          ]
        }
      ]
    }
  ]
}