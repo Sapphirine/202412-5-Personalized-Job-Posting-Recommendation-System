{
  "nbformat": 4,
  "nbformat_minor": 0,
  "metadata": {
    "colab": {
      "provenance": [],
      "machine_shape": "hm"
    },
    "kernelspec": {
      "name": "python3",
      "display_name": "Python 3"
    },
    "language_info": {
      "name": "python"
    }
  },
  "cells": [
    {
      "cell_type": "code",
      "execution_count": 3,
      "metadata": {
        "id": "MF0eJzTXRWw6"
      },
      "outputs": [],
      "source": [
        "from pypdf import PdfReader\n",
        "import pandas as pd\n",
        "import matplotlib.pyplot as plt\n",
        "import numpy as np\n",
        "import seaborn as sns"
      ]
    },
    {
      "cell_type": "code",
      "source": [
        "import string\n",
        "import nltk\n",
        "from nltk.corpus import stopwords\n",
        "from nltk.tokenize import word_tokenize\n",
        "from nltk.stem import WordNetLemmatizer"
      ],
      "metadata": {
        "id": "dvOZa_4HXNSY"
      },
      "execution_count": 4,
      "outputs": []
    },
    {
      "cell_type": "code",
      "source": [
        "from sentence_transformers import SentenceTransformer, util"
      ],
      "metadata": {
        "colab": {
          "base_uri": "https://localhost:8080/"
        },
        "id": "SZUovpFhXQbS",
        "outputId": "56a48f48-341e-4f24-d855-b907b442eba5"
      },
      "execution_count": 5,
      "outputs": [
        {
          "output_type": "stream",
          "name": "stderr",
          "text": [
            "/usr/local/lib/python3.10/dist-packages/sentence_transformers/cross_encoder/CrossEncoder.py:13: TqdmExperimentalWarning: Using `tqdm.autonotebook.tqdm` in notebook mode. Use `tqdm.tqdm` instead to force console mode (e.g. in jupyter console)\n",
            "  from tqdm.autonotebook import tqdm, trange\n"
          ]
        }
      ]
    },
    {
      "cell_type": "code",
      "source": [
        "from sklearn.pipeline import Pipeline\n",
        "from sklearn.linear_model import LogisticRegression\n",
        "from sklearn.model_selection import RandomizedSearchCV, train_test_split\n",
        "from sklearn.feature_extraction.text import TfidfVectorizer\n",
        "from sklearn.metrics import accuracy_score, precision_score, recall_score, f1_score\n",
        "from sklearn.metrics.pairwise import cosine_similarity\n",
        "\n",
        "import warnings\n",
        "warnings.filterwarnings('ignore')"
      ],
      "metadata": {
        "id": "RdH7coMhXdsW"
      },
      "execution_count": 6,
      "outputs": []
    },
    {
      "cell_type": "code",
      "source": [
        "nltk.download('punkt')\n",
        "nltk.download('stopwords')\n",
        "nltk.download('wordnet')\n",
        "nltk.download('omw-1.4')\n",
        "nltk.download('punkt_tab')"
      ],
      "metadata": {
        "colab": {
          "base_uri": "https://localhost:8080/"
        },
        "id": "OFXWcRLDXrBs",
        "outputId": "3f863159-2515-42a3-980d-b8e17a4a2a4f"
      },
      "execution_count": 7,
      "outputs": [
        {
          "output_type": "stream",
          "name": "stderr",
          "text": [
            "[nltk_data] Downloading package punkt to /root/nltk_data...\n",
            "[nltk_data]   Unzipping tokenizers/punkt.zip.\n",
            "[nltk_data] Downloading package stopwords to /root/nltk_data...\n",
            "[nltk_data]   Unzipping corpora/stopwords.zip.\n",
            "[nltk_data] Downloading package wordnet to /root/nltk_data...\n",
            "[nltk_data] Downloading package omw-1.4 to /root/nltk_data...\n",
            "[nltk_data] Downloading package punkt_tab to /root/nltk_data...\n",
            "[nltk_data]   Unzipping tokenizers/punkt_tab.zip.\n"
          ]
        },
        {
          "output_type": "execute_result",
          "data": {
            "text/plain": [
              "True"
            ]
          },
          "metadata": {},
          "execution_count": 7
        }
      ]
    },
    {
      "cell_type": "code",
      "source": [
        "reader = PdfReader('job_posting_data/Binrui_Yang_Resume.pdf')\n",
        "page = reader.pages[0]\n",
        "text = page.extract_text()"
      ],
      "metadata": {
        "colab": {
          "base_uri": "https://localhost:8080/"
        },
        "id": "jx2yKDLxXtsw",
        "outputId": "58cfa99a-c9f6-4c70-e61b-cf51636841fe"
      },
      "execution_count": 8,
      "outputs": [
        {
          "output_type": "stream",
          "name": "stderr",
          "text": [
            "WARNING:pypdf._reader:Ignoring wrong pointing object 6 0 (offset 0)\n",
            "WARNING:pypdf._reader:Ignoring wrong pointing object 8 0 (offset 0)\n",
            "WARNING:pypdf._reader:Ignoring wrong pointing object 10 0 (offset 0)\n",
            "WARNING:pypdf._reader:Ignoring wrong pointing object 12 0 (offset 0)\n",
            "WARNING:pypdf._reader:Ignoring wrong pointing object 14 0 (offset 0)\n",
            "WARNING:pypdf._reader:Ignoring wrong pointing object 16 0 (offset 0)\n",
            "WARNING:pypdf._reader:Ignoring wrong pointing object 18 0 (offset 0)\n",
            "WARNING:pypdf._reader:Ignoring wrong pointing object 20 0 (offset 0)\n",
            "WARNING:pypdf._reader:Ignoring wrong pointing object 22 0 (offset 0)\n",
            "WARNING:pypdf._reader:Ignoring wrong pointing object 25 0 (offset 0)\n"
          ]
        }
      ]
    },
    {
      "cell_type": "code",
      "source": [
        "job_df_1 = pd.read_csv('job_posting_data/jobs.csv')\n",
        "job_df_2 = pd.read_csv('job_posting_data/postings.csv')\n",
        "\n",
        "job_df_1.shape, job_df_2.shape"
      ],
      "metadata": {
        "colab": {
          "base_uri": "https://localhost:8080/"
        },
        "id": "ZyZqkBj5XyoD",
        "outputId": "f11ebda9-848b-42ee-f842-d47e44f30590"
      },
      "execution_count": 20,
      "outputs": [
        {
          "output_type": "execute_result",
          "data": {
            "text/plain": [
              "((8261, 18), (123849, 31))"
            ]
          },
          "metadata": {},
          "execution_count": 20
        }
      ]
    },
    {
      "cell_type": "code",
      "source": [
        "# random sample 2000 rows from job_df_1\n",
        "job_df_1 = job_df_1.sample(n=2000, random_state=42)\n",
        "job_df_2 = job_df_2.sample(n=2000, random_state=42)"
      ],
      "metadata": {
        "id": "KvewDxIgeDEG"
      },
      "execution_count": 21,
      "outputs": []
    },
    {
      "cell_type": "code",
      "source": [
        "job_df_1 = job_df_1[['company', 'title', 'description', 'post_url']]\n",
        "job_df_2 = job_df_2[['company_name', 'title', 'description', 'job_posting_url']]"
      ],
      "metadata": {
        "id": "Fto8LTCFX2p2"
      },
      "execution_count": 22,
      "outputs": []
    },
    {
      "cell_type": "code",
      "source": [
        "job_df_1.columns = ['company_name', 'title', 'description', 'job_posting_url']\n",
        "job_df = pd.concat([job_df_1, job_df_2])"
      ],
      "metadata": {
        "id": "PlUaYd9KYApy"
      },
      "execution_count": 23,
      "outputs": []
    },
    {
      "cell_type": "code",
      "source": [
        "df = job_df[['title', 'description']].drop_duplicates().dropna()\n",
        "\n",
        "df.shape"
      ],
      "metadata": {
        "colab": {
          "base_uri": "https://localhost:8080/"
        },
        "id": "7pYCchEzYCQZ",
        "outputId": "c37e1ca4-c000-4102-9b59-6f1ccf1d3c05"
      },
      "execution_count": 24,
      "outputs": [
        {
          "output_type": "execute_result",
          "data": {
            "text/plain": [
              "(3554, 2)"
            ]
          },
          "metadata": {},
          "execution_count": 24
        }
      ]
    },
    {
      "cell_type": "code",
      "source": [
        "def preprocess_text(text):\n",
        "    # lowecasing\n",
        "    text = text.lower()\n",
        "    # remove punctuation\n",
        "    text = text.translate(str.maketrans('', '', string.punctuation))\n",
        "    # tokenize\n",
        "    words = word_tokenize(text)\n",
        "    # remove stopwords\n",
        "    stop_words = set(stopwords.words('english'))\n",
        "    words = [word for word in words if word not in stop_words]\n",
        "    # lemmatization the words\n",
        "    lemmatizer = WordNetLemmatizer()\n",
        "    words = [lemmatizer.lemmatize(word) for word in words]\n",
        "\n",
        "    # Join the words back into a full string\n",
        "    preprocess_text = ' '.join(words)\n",
        "\n",
        "    return preprocess_text"
      ],
      "metadata": {
        "id": "apeEvoOxYD7u"
      },
      "execution_count": 25,
      "outputs": []
    },
    {
      "cell_type": "code",
      "source": [
        "df['description'] = df['description'].apply(preprocess_text)"
      ],
      "metadata": {
        "id": "j9aF0rUGYGK5"
      },
      "execution_count": 26,
      "outputs": []
    },
    {
      "cell_type": "code",
      "source": [
        "from imblearn.over_sampling import RandomOverSampler\n",
        "\n",
        "\n",
        "train_df, test_df = train_test_split(df, test_size=0.2, random_state=42)\n",
        "ros = RandomOverSampler(random_state=42)\n",
        "\n",
        "# Separate features and target\n",
        "X_train = train_df['description']\n",
        "y_train = train_df['title']\n",
        "\n",
        "# Transform the data into an array to use with RandomUnderSampler\n",
        "X_train_resampled, y_train_resampled = ros.fit_resample(X_train.values.reshape(-1, 1), y_train)\n",
        "\n",
        "# Convert back to DataFrame for compatibility with existing code\n",
        "sample_train_df = pd.DataFrame({\n",
        "    'description': X_train_resampled.flatten(),\n",
        "    'title': y_train_resampled\n",
        "})"
      ],
      "metadata": {
        "id": "sXgOQCelYII-"
      },
      "execution_count": 27,
      "outputs": []
    },
    {
      "cell_type": "code",
      "source": [
        "sample_train_df = train_df.sample(frac=0.5, random_state=42)\n",
        "sample_train_df.shape"
      ],
      "metadata": {
        "colab": {
          "base_uri": "https://localhost:8080/"
        },
        "id": "vuJK6Go3fsy1",
        "outputId": "584f6679-0a8b-4b5c-aba2-e0491750e0c7"
      },
      "execution_count": 35,
      "outputs": [
        {
          "output_type": "execute_result",
          "data": {
            "text/plain": [
              "(1422, 2)"
            ]
          },
          "metadata": {},
          "execution_count": 35
        }
      ]
    },
    {
      "cell_type": "code",
      "source": [
        "pipeline = Pipeline([\n",
        "    ('tfidf', TfidfVectorizer(stop_words='english')),\n",
        "    ('clf', LogisticRegression(solver='liblinear'))\n",
        "])\n",
        "\n",
        "# Parameter grid\n",
        "param_grid = {\n",
        "    'tfidf__max_df': [0.75, 0.85, 1.0],\n",
        "    'tfidf__min_df': [1, 2, 5],\n",
        "    'tfidf__ngram_range': [(1, 1), (1, 2)],\n",
        "    'clf__C': [0.1, 1, 10]\n",
        "}\n",
        "\n",
        "# Perform RandomizedSearchCV\n",
        "grid_search = RandomizedSearchCV(pipeline, param_grid, cv=2, verbose=2, n_jobs=-1, n_iter=10)\n",
        "grid_search.fit(sample_train_df['description'], sample_train_df['title'])\n",
        "\n",
        "# Update vectorizer with best parameters\n",
        "best_params = grid_search.best_params_\n",
        "vectorizer = TfidfVectorizer(stop_words='english',\n",
        "                             max_df=best_params['tfidf__max_df'],\n",
        "                             min_df=best_params['tfidf__min_df'],\n",
        "                             ngram_range=best_params['tfidf__ngram_range'])\n",
        "\n",
        "# Fit the vectorizer on the full dataset\n",
        "tfidf_matrix = vectorizer.fit_transform(sample_train_df['description'])"
      ],
      "metadata": {
        "colab": {
          "base_uri": "https://localhost:8080/"
        },
        "id": "B6pZ0E0qY4Gj",
        "outputId": "1af072a3-124e-47ba-e5ed-4e47611a2bb0"
      },
      "execution_count": 36,
      "outputs": [
        {
          "output_type": "stream",
          "name": "stdout",
          "text": [
            "Fitting 2 folds for each of 10 candidates, totalling 20 fits\n"
          ]
        }
      ]
    },
    {
      "cell_type": "code",
      "source": [
        "from sentence_transformers import SentenceTransformer, util\n",
        "\n",
        "# Reset the index of the DataFrame\n",
        "sample_train_df = sample_train_df.reset_index(drop=True)\n",
        "\n",
        "# load pre-trained model\n",
        "model = SentenceTransformer('all-mpnet-base-v2')\n",
        "\n",
        "# encode job description\n",
        "job_embeddings = model.encode(sample_train_df['description'].tolist(), convert_to_tensor=True)"
      ],
      "metadata": {
        "id": "HOKVf85VY8Cp"
      },
      "execution_count": 37,
      "outputs": []
    },
    {
      "cell_type": "code",
      "source": [
        "def search_jobs(query, job_embeddings, df, model, vectorizer, top_n=10):\n",
        "    # Preprocess and encode the query with BERT\n",
        "    query = preprocess_text(query)\n",
        "    query_embedding = model.encode(query, convert_to_tensor=True)\n",
        "\n",
        "    # Compute cosine similarity with BERT embeddings\n",
        "    cosine_scores_bert = util.pytorch_cos_sim(query_embedding, job_embeddings)[0]\n",
        "\n",
        "    # Transform query with TF-IDF vectorizer and compute cosine similarity\n",
        "    query_tfidf = vectorizer.transform([query])\n",
        "    cosine_scores_tfidf = cosine_similarity(query_tfidf, tfidf_matrix).flatten()\n",
        "\n",
        "    # Combine scores (e.g., weighted sum)\n",
        "    combined_scores = 0.8 * cosine_scores_bert.cpu().numpy() + 0.2 * cosine_scores_tfidf\n",
        "\n",
        "    # Get top N most similar jobs\n",
        "    top_indices = np.argsort(combined_scores)[-top_n:][::-1]\n",
        "    top_jobs = df.iloc[top_indices]\n",
        "\n",
        "    return top_jobs"
      ],
      "metadata": {
        "id": "J4uBBWTlZh7U"
      },
      "execution_count": 42,
      "outputs": []
    },
    {
      "cell_type": "code",
      "source": [
        "predicted_labels = grid_search.predict(test_df['description'])\n",
        "true_labels = test_df['title']\n",
        "\n",
        "# Define evaluation function\n",
        "def evaluate_model(true_labels, predicted_labels):\n",
        "    accuracy = accuracy_score(true_labels, predicted_labels)\n",
        "    precision = precision_score(true_labels, predicted_labels, average='weighted')\n",
        "    recall = recall_score(true_labels, predicted_labels, average='weighted')\n",
        "    f1 = f1_score(true_labels, predicted_labels, average='weighted')\n",
        "    print(f\"Accuracy: {accuracy}\\nPrecision: {precision}\\nRecall: {recall}\\nF1-Score: {f1}\")\n",
        "\n",
        "# Evaluate the model\n",
        "evaluate_model(true_labels, predicted_labels)"
      ],
      "metadata": {
        "colab": {
          "base_uri": "https://localhost:8080/"
        },
        "id": "w7da-F-nfx8c",
        "outputId": "8c05fafc-e664-4b22-e890-3e8dc655144a"
      },
      "execution_count": 43,
      "outputs": [
        {
          "output_type": "stream",
          "name": "stdout",
          "text": [
            "Accuracy: 0.18143459915611815\n",
            "Precision: 0.06969503346469212\n",
            "Recall: 0.18143459915611815\n",
            "F1-Score: 0.09140309696020224\n"
          ]
        }
      ]
    },
    {
      "cell_type": "code",
      "source": [
        "text[:100]"
      ],
      "metadata": {
        "colab": {
          "base_uri": "https://localhost:8080/",
          "height": 35
        },
        "id": "GHQ4ZkwMhJ3u",
        "outputId": "469fa143-371c-4a35-a1ab-935dfd74d90c"
      },
      "execution_count": 40,
      "outputs": [
        {
          "output_type": "execute_result",
          "data": {
            "text/plain": [
              "' \\n \\nBinrui Yang by2361@columbia.edu | 408-966-5168 | Linkedin.com/in/binrui-y EDUCATION Columbia Uni'"
            ],
            "application/vnd.google.colaboratory.intrinsic+json": {
              "type": "string"
            }
          },
          "metadata": {},
          "execution_count": 40
        }
      ]
    },
    {
      "cell_type": "code",
      "source": [
        "top_jobs = search_jobs(text, job_embeddings, df, model, vectorizer)\n",
        "top_jobs"
      ],
      "metadata": {
        "colab": {
          "base_uri": "https://localhost:8080/",
          "height": 363
        },
        "id": "YeGCcIVChAMQ",
        "outputId": "e213d02d-19b8-4349-dfa8-e6f681708de2"
      },
      "execution_count": 45,
      "outputs": [
        {
          "output_type": "execute_result",
          "data": {
            "text/plain": [
              "                                                  title  \\\n",
              "5716                              Brand Project Manager   \n",
              "2751                          Site Reliability Engineer   \n",
              "7227                          Machine Learning Engineer   \n",
              "7153                  Software Development Snr Director   \n",
              "6715  Staff Software Engineer - Golang / AWS - Enter...   \n",
              "1840              Senior Azure/Python Engineer (Remote)   \n",
              "4310                          Site Reliability Engineer   \n",
              "4189                          Machine Learning Engineer   \n",
              "3063                                     Data Scientist   \n",
              "230                           Machine Learning Engineer   \n",
              "\n",
              "                                            description  \n",
              "5716  role gensler ’ brand design team making people...  \n",
              "2751  team workday application built developer hande...  \n",
              "7227  description machine learning ml strategic amaz...  \n",
              "7153  job description oracle database utility group ...  \n",
              "6715  seniortostaff level software engineer proven e...  \n",
              "1840  100 remote full time direct hire job title sen...  \n",
              "4310  site reliability engineer position summary sit...  \n",
              "4189  knock mission empower people move freely knock...  \n",
              "3063  company description company description togeth...  \n",
              "230   machine learning engineer sorcero leader langu...  "
            ],
            "text/html": [
              "\n",
              "  <div id=\"df-ee1e61b5-1f95-4bf1-8866-0164596b93fc\" class=\"colab-df-container\">\n",
              "    <div>\n",
              "<style scoped>\n",
              "    .dataframe tbody tr th:only-of-type {\n",
              "        vertical-align: middle;\n",
              "    }\n",
              "\n",
              "    .dataframe tbody tr th {\n",
              "        vertical-align: top;\n",
              "    }\n",
              "\n",
              "    .dataframe thead th {\n",
              "        text-align: right;\n",
              "    }\n",
              "</style>\n",
              "<table border=\"1\" class=\"dataframe\">\n",
              "  <thead>\n",
              "    <tr style=\"text-align: right;\">\n",
              "      <th></th>\n",
              "      <th>title</th>\n",
              "      <th>description</th>\n",
              "    </tr>\n",
              "  </thead>\n",
              "  <tbody>\n",
              "    <tr>\n",
              "      <th>5716</th>\n",
              "      <td>Brand Project Manager</td>\n",
              "      <td>role gensler ’ brand design team making people...</td>\n",
              "    </tr>\n",
              "    <tr>\n",
              "      <th>2751</th>\n",
              "      <td>Site Reliability Engineer</td>\n",
              "      <td>team workday application built developer hande...</td>\n",
              "    </tr>\n",
              "    <tr>\n",
              "      <th>7227</th>\n",
              "      <td>Machine Learning Engineer</td>\n",
              "      <td>description machine learning ml strategic amaz...</td>\n",
              "    </tr>\n",
              "    <tr>\n",
              "      <th>7153</th>\n",
              "      <td>Software Development Snr Director</td>\n",
              "      <td>job description oracle database utility group ...</td>\n",
              "    </tr>\n",
              "    <tr>\n",
              "      <th>6715</th>\n",
              "      <td>Staff Software Engineer - Golang / AWS - Enter...</td>\n",
              "      <td>seniortostaff level software engineer proven e...</td>\n",
              "    </tr>\n",
              "    <tr>\n",
              "      <th>1840</th>\n",
              "      <td>Senior Azure/Python Engineer (Remote)</td>\n",
              "      <td>100 remote full time direct hire job title sen...</td>\n",
              "    </tr>\n",
              "    <tr>\n",
              "      <th>4310</th>\n",
              "      <td>Site Reliability Engineer</td>\n",
              "      <td>site reliability engineer position summary sit...</td>\n",
              "    </tr>\n",
              "    <tr>\n",
              "      <th>4189</th>\n",
              "      <td>Machine Learning Engineer</td>\n",
              "      <td>knock mission empower people move freely knock...</td>\n",
              "    </tr>\n",
              "    <tr>\n",
              "      <th>3063</th>\n",
              "      <td>Data Scientist</td>\n",
              "      <td>company description company description togeth...</td>\n",
              "    </tr>\n",
              "    <tr>\n",
              "      <th>230</th>\n",
              "      <td>Machine Learning Engineer</td>\n",
              "      <td>machine learning engineer sorcero leader langu...</td>\n",
              "    </tr>\n",
              "  </tbody>\n",
              "</table>\n",
              "</div>\n",
              "    <div class=\"colab-df-buttons\">\n",
              "\n",
              "  <div class=\"colab-df-container\">\n",
              "    <button class=\"colab-df-convert\" onclick=\"convertToInteractive('df-ee1e61b5-1f95-4bf1-8866-0164596b93fc')\"\n",
              "            title=\"Convert this dataframe to an interactive table.\"\n",
              "            style=\"display:none;\">\n",
              "\n",
              "  <svg xmlns=\"http://www.w3.org/2000/svg\" height=\"24px\" viewBox=\"0 -960 960 960\">\n",
              "    <path d=\"M120-120v-720h720v720H120Zm60-500h600v-160H180v160Zm220 220h160v-160H400v160Zm0 220h160v-160H400v160ZM180-400h160v-160H180v160Zm440 0h160v-160H620v160ZM180-180h160v-160H180v160Zm440 0h160v-160H620v160Z\"/>\n",
              "  </svg>\n",
              "    </button>\n",
              "\n",
              "  <style>\n",
              "    .colab-df-container {\n",
              "      display:flex;\n",
              "      gap: 12px;\n",
              "    }\n",
              "\n",
              "    .colab-df-convert {\n",
              "      background-color: #E8F0FE;\n",
              "      border: none;\n",
              "      border-radius: 50%;\n",
              "      cursor: pointer;\n",
              "      display: none;\n",
              "      fill: #1967D2;\n",
              "      height: 32px;\n",
              "      padding: 0 0 0 0;\n",
              "      width: 32px;\n",
              "    }\n",
              "\n",
              "    .colab-df-convert:hover {\n",
              "      background-color: #E2EBFA;\n",
              "      box-shadow: 0px 1px 2px rgba(60, 64, 67, 0.3), 0px 1px 3px 1px rgba(60, 64, 67, 0.15);\n",
              "      fill: #174EA6;\n",
              "    }\n",
              "\n",
              "    .colab-df-buttons div {\n",
              "      margin-bottom: 4px;\n",
              "    }\n",
              "\n",
              "    [theme=dark] .colab-df-convert {\n",
              "      background-color: #3B4455;\n",
              "      fill: #D2E3FC;\n",
              "    }\n",
              "\n",
              "    [theme=dark] .colab-df-convert:hover {\n",
              "      background-color: #434B5C;\n",
              "      box-shadow: 0px 1px 3px 1px rgba(0, 0, 0, 0.15);\n",
              "      filter: drop-shadow(0px 1px 2px rgba(0, 0, 0, 0.3));\n",
              "      fill: #FFFFFF;\n",
              "    }\n",
              "  </style>\n",
              "\n",
              "    <script>\n",
              "      const buttonEl =\n",
              "        document.querySelector('#df-ee1e61b5-1f95-4bf1-8866-0164596b93fc button.colab-df-convert');\n",
              "      buttonEl.style.display =\n",
              "        google.colab.kernel.accessAllowed ? 'block' : 'none';\n",
              "\n",
              "      async function convertToInteractive(key) {\n",
              "        const element = document.querySelector('#df-ee1e61b5-1f95-4bf1-8866-0164596b93fc');\n",
              "        const dataTable =\n",
              "          await google.colab.kernel.invokeFunction('convertToInteractive',\n",
              "                                                    [key], {});\n",
              "        if (!dataTable) return;\n",
              "\n",
              "        const docLinkHtml = 'Like what you see? Visit the ' +\n",
              "          '<a target=\"_blank\" href=https://colab.research.google.com/notebooks/data_table.ipynb>data table notebook</a>'\n",
              "          + ' to learn more about interactive tables.';\n",
              "        element.innerHTML = '';\n",
              "        dataTable['output_type'] = 'display_data';\n",
              "        await google.colab.output.renderOutput(dataTable, element);\n",
              "        const docLink = document.createElement('div');\n",
              "        docLink.innerHTML = docLinkHtml;\n",
              "        element.appendChild(docLink);\n",
              "      }\n",
              "    </script>\n",
              "  </div>\n",
              "\n",
              "\n",
              "<div id=\"df-11c426e9-21b9-4229-bfb1-fb507465b407\">\n",
              "  <button class=\"colab-df-quickchart\" onclick=\"quickchart('df-11c426e9-21b9-4229-bfb1-fb507465b407')\"\n",
              "            title=\"Suggest charts\"\n",
              "            style=\"display:none;\">\n",
              "\n",
              "<svg xmlns=\"http://www.w3.org/2000/svg\" height=\"24px\"viewBox=\"0 0 24 24\"\n",
              "     width=\"24px\">\n",
              "    <g>\n",
              "        <path d=\"M19 3H5c-1.1 0-2 .9-2 2v14c0 1.1.9 2 2 2h14c1.1 0 2-.9 2-2V5c0-1.1-.9-2-2-2zM9 17H7v-7h2v7zm4 0h-2V7h2v10zm4 0h-2v-4h2v4z\"/>\n",
              "    </g>\n",
              "</svg>\n",
              "  </button>\n",
              "\n",
              "<style>\n",
              "  .colab-df-quickchart {\n",
              "      --bg-color: #E8F0FE;\n",
              "      --fill-color: #1967D2;\n",
              "      --hover-bg-color: #E2EBFA;\n",
              "      --hover-fill-color: #174EA6;\n",
              "      --disabled-fill-color: #AAA;\n",
              "      --disabled-bg-color: #DDD;\n",
              "  }\n",
              "\n",
              "  [theme=dark] .colab-df-quickchart {\n",
              "      --bg-color: #3B4455;\n",
              "      --fill-color: #D2E3FC;\n",
              "      --hover-bg-color: #434B5C;\n",
              "      --hover-fill-color: #FFFFFF;\n",
              "      --disabled-bg-color: #3B4455;\n",
              "      --disabled-fill-color: #666;\n",
              "  }\n",
              "\n",
              "  .colab-df-quickchart {\n",
              "    background-color: var(--bg-color);\n",
              "    border: none;\n",
              "    border-radius: 50%;\n",
              "    cursor: pointer;\n",
              "    display: none;\n",
              "    fill: var(--fill-color);\n",
              "    height: 32px;\n",
              "    padding: 0;\n",
              "    width: 32px;\n",
              "  }\n",
              "\n",
              "  .colab-df-quickchart:hover {\n",
              "    background-color: var(--hover-bg-color);\n",
              "    box-shadow: 0 1px 2px rgba(60, 64, 67, 0.3), 0 1px 3px 1px rgba(60, 64, 67, 0.15);\n",
              "    fill: var(--button-hover-fill-color);\n",
              "  }\n",
              "\n",
              "  .colab-df-quickchart-complete:disabled,\n",
              "  .colab-df-quickchart-complete:disabled:hover {\n",
              "    background-color: var(--disabled-bg-color);\n",
              "    fill: var(--disabled-fill-color);\n",
              "    box-shadow: none;\n",
              "  }\n",
              "\n",
              "  .colab-df-spinner {\n",
              "    border: 2px solid var(--fill-color);\n",
              "    border-color: transparent;\n",
              "    border-bottom-color: var(--fill-color);\n",
              "    animation:\n",
              "      spin 1s steps(1) infinite;\n",
              "  }\n",
              "\n",
              "  @keyframes spin {\n",
              "    0% {\n",
              "      border-color: transparent;\n",
              "      border-bottom-color: var(--fill-color);\n",
              "      border-left-color: var(--fill-color);\n",
              "    }\n",
              "    20% {\n",
              "      border-color: transparent;\n",
              "      border-left-color: var(--fill-color);\n",
              "      border-top-color: var(--fill-color);\n",
              "    }\n",
              "    30% {\n",
              "      border-color: transparent;\n",
              "      border-left-color: var(--fill-color);\n",
              "      border-top-color: var(--fill-color);\n",
              "      border-right-color: var(--fill-color);\n",
              "    }\n",
              "    40% {\n",
              "      border-color: transparent;\n",
              "      border-right-color: var(--fill-color);\n",
              "      border-top-color: var(--fill-color);\n",
              "    }\n",
              "    60% {\n",
              "      border-color: transparent;\n",
              "      border-right-color: var(--fill-color);\n",
              "    }\n",
              "    80% {\n",
              "      border-color: transparent;\n",
              "      border-right-color: var(--fill-color);\n",
              "      border-bottom-color: var(--fill-color);\n",
              "    }\n",
              "    90% {\n",
              "      border-color: transparent;\n",
              "      border-bottom-color: var(--fill-color);\n",
              "    }\n",
              "  }\n",
              "</style>\n",
              "\n",
              "  <script>\n",
              "    async function quickchart(key) {\n",
              "      const quickchartButtonEl =\n",
              "        document.querySelector('#' + key + ' button');\n",
              "      quickchartButtonEl.disabled = true;  // To prevent multiple clicks.\n",
              "      quickchartButtonEl.classList.add('colab-df-spinner');\n",
              "      try {\n",
              "        const charts = await google.colab.kernel.invokeFunction(\n",
              "            'suggestCharts', [key], {});\n",
              "      } catch (error) {\n",
              "        console.error('Error during call to suggestCharts:', error);\n",
              "      }\n",
              "      quickchartButtonEl.classList.remove('colab-df-spinner');\n",
              "      quickchartButtonEl.classList.add('colab-df-quickchart-complete');\n",
              "    }\n",
              "    (() => {\n",
              "      let quickchartButtonEl =\n",
              "        document.querySelector('#df-11c426e9-21b9-4229-bfb1-fb507465b407 button');\n",
              "      quickchartButtonEl.style.display =\n",
              "        google.colab.kernel.accessAllowed ? 'block' : 'none';\n",
              "    })();\n",
              "  </script>\n",
              "</div>\n",
              "\n",
              "  <div id=\"id_b5770842-68a1-4082-9e35-4f313c91f44d\">\n",
              "    <style>\n",
              "      .colab-df-generate {\n",
              "        background-color: #E8F0FE;\n",
              "        border: none;\n",
              "        border-radius: 50%;\n",
              "        cursor: pointer;\n",
              "        display: none;\n",
              "        fill: #1967D2;\n",
              "        height: 32px;\n",
              "        padding: 0 0 0 0;\n",
              "        width: 32px;\n",
              "      }\n",
              "\n",
              "      .colab-df-generate:hover {\n",
              "        background-color: #E2EBFA;\n",
              "        box-shadow: 0px 1px 2px rgba(60, 64, 67, 0.3), 0px 1px 3px 1px rgba(60, 64, 67, 0.15);\n",
              "        fill: #174EA6;\n",
              "      }\n",
              "\n",
              "      [theme=dark] .colab-df-generate {\n",
              "        background-color: #3B4455;\n",
              "        fill: #D2E3FC;\n",
              "      }\n",
              "\n",
              "      [theme=dark] .colab-df-generate:hover {\n",
              "        background-color: #434B5C;\n",
              "        box-shadow: 0px 1px 3px 1px rgba(0, 0, 0, 0.15);\n",
              "        filter: drop-shadow(0px 1px 2px rgba(0, 0, 0, 0.3));\n",
              "        fill: #FFFFFF;\n",
              "      }\n",
              "    </style>\n",
              "    <button class=\"colab-df-generate\" onclick=\"generateWithVariable('top_jobs')\"\n",
              "            title=\"Generate code using this dataframe.\"\n",
              "            style=\"display:none;\">\n",
              "\n",
              "  <svg xmlns=\"http://www.w3.org/2000/svg\" height=\"24px\"viewBox=\"0 0 24 24\"\n",
              "       width=\"24px\">\n",
              "    <path d=\"M7,19H8.4L18.45,9,17,7.55,7,17.6ZM5,21V16.75L18.45,3.32a2,2,0,0,1,2.83,0l1.4,1.43a1.91,1.91,0,0,1,.58,1.4,1.91,1.91,0,0,1-.58,1.4L9.25,21ZM18.45,9,17,7.55Zm-12,3A5.31,5.31,0,0,0,4.9,8.1,5.31,5.31,0,0,0,1,6.5,5.31,5.31,0,0,0,4.9,4.9,5.31,5.31,0,0,0,6.5,1,5.31,5.31,0,0,0,8.1,4.9,5.31,5.31,0,0,0,12,6.5,5.46,5.46,0,0,0,6.5,12Z\"/>\n",
              "  </svg>\n",
              "    </button>\n",
              "    <script>\n",
              "      (() => {\n",
              "      const buttonEl =\n",
              "        document.querySelector('#id_b5770842-68a1-4082-9e35-4f313c91f44d button.colab-df-generate');\n",
              "      buttonEl.style.display =\n",
              "        google.colab.kernel.accessAllowed ? 'block' : 'none';\n",
              "\n",
              "      buttonEl.onclick = () => {\n",
              "        google.colab.notebook.generateWithVariable('top_jobs');\n",
              "      }\n",
              "      })();\n",
              "    </script>\n",
              "  </div>\n",
              "\n",
              "    </div>\n",
              "  </div>\n"
            ],
            "application/vnd.google.colaboratory.intrinsic+json": {
              "type": "dataframe",
              "variable_name": "top_jobs",
              "summary": "{\n  \"name\": \"top_jobs\",\n  \"rows\": 10,\n  \"fields\": [\n    {\n      \"column\": \"title\",\n      \"properties\": {\n        \"dtype\": \"string\",\n        \"num_unique_values\": 7,\n        \"samples\": [\n          \"Brand Project Manager\",\n          \"Site Reliability Engineer\",\n          \"Senior Azure/Python Engineer (Remote)\"\n        ],\n        \"semantic_type\": \"\",\n        \"description\": \"\"\n      }\n    },\n    {\n      \"column\": \"description\",\n      \"properties\": {\n        \"dtype\": \"string\",\n        \"num_unique_values\": 10,\n        \"samples\": [\n          \"company description company description together make come make u overview cricut\\u00ae believe \\u2019 born maker built first cutting machine saw potential simple yet powerful tool completely transform way people craft design diy since continue innovate new machine platform material tool \\u2019 bustling worldwide community mean connection outlet unbridled creativity join u place power handmade hand life love work coworkers company made human being ask tough question entertain idea outside work together make something bigger cricut\\u00ae growing china uk australia new zealand well europe south america \\u2019 unstoppable roll satisfying innate creative itch around world train develop celebrate great work hallway high five promotion within also throw world \\u2019 best halloween party enjoy incredible perk take care team outstanding medical dental vision retirement benefit pet insurance 401k match life insurance incentive program paid time onsite massage phenomenal worklife balance employee discount offer best benefit package diy consumer electronics industry period like see \\u2019 wait meet job description job description position need handson data scientist expand data science machine learning effort person accountable executing highimpact data science initiative creating driving culture value understands importance data building improving adoption data product using best technology available data team looking highly talented team member passionate data rigor needed solve billiondollar problem possess innate entrepreneurial spirit explore uncharted team combine engineering backbone bestinclass big data platform analytic expertise advanced mining predictive modeling want work among best talent industry working innovative product world cricut place responsibility build data solution construct portfolio predictive model recommendation engine personalize user experience platform strategic thought partner collaborate engineering product ecommerce team identity opportunity data solution could enhance shopping experience platform test learn develop experiment pilot program test new data science capability advising interpretation result recommended next step qualification desired background skill mindset background m phd quantitative field computer science statistic operation research economics related technical discipline 8 year experience analytics data science quantitative discipline 3 year experience consumer space industry skill expertise aggregating analyzing large datasets identify behavior trend using statistic advanced data mining technique built data model tackle realworld problem solid fundamental knowledge supervised unsupervised reinforcement learning machine learning algorithm classifier cluster analysis dimension reduction regression cnn rnn gan nlpnlu collaborative filtering etc experience machine learning framework tool eg scikitlearn h2o tensorflow mllib required experience model explainability interpretability technique experience cloud data stack solution aws gcp azure big data technology experience distributed data processing framework apache spark similar experience agile project management methodology exceptional critical thinking attention detail great communication skill ability work senior management business lead analyst product manager lead strategic crosscompany project mindset positive enthusiastic attitude ambition tackle challenging issue strong sense intellectual curiosity burning desire learn clear decisive thinker thrives working across global team expert dealing ambiguity ability challenge conventional thinking work stakeholder identify improve status quo quickly find common ground solve problem good team player encourages collaboration thrive fast paced constantly changing environment additional information next please attach resume cover letter want show super power way \\u2013 include information sure cricut\\u00ae employer value individuality equality diversity tell u \\u2019 maker diy enthusiast whether think good one would love hear send u information cricut\\u00ae celebrate inclusion diversity cricut equal opportunity employer make employment decision based merit cricut prohibits discrimination based race color religion sex sexual identity gender identity marital status veteran status nationality citizenship age disability medical condition pregnancy unlawful consideration information kept confidential according eeo guideline cricut participates everify\",\n          \"team workday application built developer handed environment team team support operation application service manage environment production sandbox sale implementation team push new code existing customer monitor health performance reliability workday stack general keep light 247 coverage role role must think customer internal external delivering quickly wide range daily task environment provisioning performance monitoring environment troubleshooting adhoc walk ups automation effort creating transparency work performed position requires proven understanding linux system production environment part team directly responsible writing maintaining script bash ruby python support environment provision process understand workday service available 247365 requires oncall participation careful maintenance planning change detailed runbooks teamwork maintain due diligence around 100 configuration task perform daily work performed manually repeated often find way automate task short deliver everything script management monitoring patching code deployment technology brings geek think thing environment related including topic like site reliability scalability performance way automate go without saying technical solid understanding linux system server good knowledge networking protocol outstanding release management environment code deployment basic qualification 57 year environment operation experience must experience running maintaining 24x7 internetoriented production environment preferably across multiple data center must b m degree computer science engineering related technical discipline equivalent experience experience deploying operating apache tomcat httpd mysql cape clear esb subversion java web application youre stranger linux ssh tunnel mean gain server access debug best em using command line basic like top sar tcpdump iptables dmesg name experience many tool set chef puppet ossec splunk solas bladelogic ansible jira confluence qualification strong understanding enterprise level thinking level documentation runbooks root cause analysis capacitytrending bug fix scripting skill show secret passion monitoring false positive show radar quickly address inner wish list make monitoring phenomenal handle multiple task make right business decision tackle problem pressure prioritize coordinate effectively able work night weekend required part oncall support production update rotation experience centos sunos solarislinuxdevops experience working sas70 audited environment httpsworkdaywd5myworkdayjobscomworkdayjobusacapleasantonsitereliabilityengineerjr49623\",\n          \"100 remote full time direct hire job title senior software engineer salary 130k 160k job location 100 remote requirement 8 year software development good background using azure python fast growing cloud based self storage management software payment processing company business 20 year current scaling engineering team ranked inc 5000 one fastest growing company past several year currently major growth phase hiring senior software engineer strong azure python experience top reason work u work remote competitive salary 130k 160k 401k match stable fast growing exciting company full benefit health dental vision etc help build new product ground utilize tool including ai ml software development using cloud technology application database technical design need position 8 year software engineering experience azure experience azure devops azure function azure api gateway python postgresql leadership experience plus javascriptangular plus cloud native product b c related preferred required senior azurepython engineer experience please apply today email resume word looking forward receiving resume website going position clicking apply best way apply may also dannyherriesoptellocom please change email subject line way must keep jobid linkedin dh11636167 email subject line application considered danny herries lead recruiter optello applicant must authorized work u optello proud equal opportunity employer qualified applicant receive consideration employment without regard race color religion sex national origin disability protected veteran status characteristic protected law right work compliance federal law person hired required verify identity eligibility work united state complete required employment eligibility verification document form upon hire optello consider employment city los angeles qualified applicant criminal history manner consistent requirement los angeles fair chance initiative hiring ban box ordinance\"\n        ],\n        \"semantic_type\": \"\",\n        \"description\": \"\"\n      }\n    }\n  ]\n}"
            }
          },
          "metadata": {},
          "execution_count": 45
        }
      ]
    },
    {
      "cell_type": "code",
      "source": [],
      "metadata": {
        "id": "D-VaiC7-jQ5t"
      },
      "execution_count": null,
      "outputs": []
    }
  ]
}